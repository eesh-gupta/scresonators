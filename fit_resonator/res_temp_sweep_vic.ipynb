{
 "cells": [
  {
   "cell_type": "markdown",
   "metadata": {},
   "source": [
    "### Imports\n"
   ]
  },
  {
   "cell_type": "code",
   "execution_count": 1,
   "metadata": {},
   "outputs": [
    {
     "name": "stdout",
     "output_type": "stream",
     "text": [
      "Could not load InstrumentManagerWindow\n",
      "Could not import QickInstrument, try install qick package\n",
      "Could not load labbrick\n",
      "Could not load Autonics TM4 Driver\n"
     ]
    }
   ],
   "source": [
    "%load_ext autoreload\n",
    "%autoreload 2\n",
    "#%matplotlib widget\n",
    "\n",
    "import sys  # update paths\n",
    "import os  # import os in order to find relative path\n",
    "import glob\n",
    "import numpy as np \n",
    "import matplotlib.pyplot as plt\n",
    "import re\n",
    "import h5py\n",
    "\n",
    "from collections import Counter\n",
    "\n",
    "#rt = '/Users/sph/Library/CloudStorage/GoogleDrive-sphar01@stanford.edu/Shared Drives/SLab/'\n",
    "rt = 'G:/Shared Drives/SLab/'\n",
    "sys.path.append(rt + 'Shannon/Code/meas_analysis')\n",
    "sys.path.append(rt + 'Shannon/Code/scresonators')\n",
    "#sys.path.append('/Users/sph/Library/CloudStorage/GoogleDrive-spharvey3@gmail.com/My Drive/Schuster/Code/Git')\n",
    "\n",
    "from slab.datamanagement import SlabFile\n",
    "import handy as hy \n",
    "\n",
    "import fit_resonator.resonator as scres\n",
    "import time \n",
    "import seaborn as sns\n",
    "import scipy.constants as cs\n",
    "from scipy.optimize import curve_fit\n",
    "\n",
    "min_power = -78\n",
    "atten = -50 \n",
    "#import importlib \n",
    "#importlib.reload(scres)"
   ]
  },
  {
   "cell_type": "code",
   "execution_count": 20,
   "metadata": {},
   "outputs": [],
   "source": [
    "pth_base = rt + 'JJ_fab/Coherence Sample/Resonators Measurement/240725/data/'\n",
    "\n",
    "folder_path = pth_base  # Replace with the actual folder path\n",
    "\n",
    "directories = [name for name in os.listdir(folder_path) if os.path.isdir(os.path.join(folder_path, name))]\n",
    "directories = sorted(directories)\n",
    "dir_base = directories[2]\n",
    "\n",
    "directories = directories[3:-1]"
   ]
  },
  {
   "cell_type": "markdown",
   "metadata": {},
   "source": [
    "### Grab list of resonators and files"
   ]
  },
  {
   "cell_type": "code",
   "execution_count": 15,
   "metadata": {},
   "outputs": [],
   "source": [
    "def get_resonators(folder, pattern):\n",
    "    \n",
    "    # List of files\n",
    "    pth = pth_base + folder\n",
    "    file_list0 = os.listdir(pth)\n",
    "    print(len(file_list0))\n",
    "\n",
    "    tokens=[]\n",
    "    # Get a list of resonators \n",
    "    for i in range(len(file_list0)):\n",
    "        tokens.append(re.findall(pattern, file_list0[i]))\n",
    "\n",
    "    values = [int(token) for sublist in tokens for token in sublist]\n",
    "    resonators = set(values)\n",
    "\n",
    "    frequency = Counter(values)\n",
    "    print(frequency)\n",
    "\n",
    "    resonators = np.array(list(resonators))\n",
    "    resonators.sort()\n",
    "    return resonators, file_list0"
   ]
  },
  {
   "cell_type": "markdown",
   "metadata": {},
   "source": [
    "### Fit resonator func"
   ]
  },
  {
   "cell_type": "code",
   "execution_count": 16,
   "metadata": {},
   "outputs": [],
   "source": [
    "def fit_resonator(data, filename, output_path, fit_type='DCM'):\n",
    "    # fit type DCM, CPZM\n",
    "    my_resonator = scres.Resonator()\n",
    "    my_resonator.outputpath = output_path \n",
    "    my_resonator.filename = filename\n",
    "    my_resonator.from_columns(data['freqs'], data['amps'], data['phases'])\n",
    "    # Set fit parameters\n",
    "\n",
    "    MC_iteration = 4\n",
    "    MC_rounds = 1e3\n",
    "    MC_fix = []\n",
    "    manual_init = None\n",
    "    my_resonator.preprocess_method = 'linear' # Preprocess method: default = linear\n",
    "    my_resonator.filepath = './' # Path to fit output\n",
    "    #my_resonator.plot=None # 'png'\n",
    "    # Perform a fit on the data with given parameters\n",
    "    my_resonator.fit_method(fit_type, MC_iteration, MC_rounds=MC_rounds, MC_fix=MC_fix,manual_init=manual_init, MC_step_const=0.3)\n",
    "    output = my_resonator.fit(None)\n",
    "    return output \n",
    "\n",
    "# conf_array = [Q_conf, Qi_conf, Qc_conf, Qc_Re_conf, phi_conf, w1_conf]\n",
    "# Q, Qc, Frequency, Phase "
   ]
  },
  {
   "cell_type": "markdown",
   "metadata": {},
   "source": [
    "### Load directory list"
   ]
  },
  {
   "cell_type": "code",
   "execution_count": 17,
   "metadata": {},
   "outputs": [
    {
     "ename": "ValueError",
     "evalue": "could not convert string to float: 'weep2'",
     "output_type": "error",
     "traceback": [
      "\u001b[1;31m---------------------------------------------------------------------------\u001b[0m",
      "\u001b[1;31mValueError\u001b[0m                                Traceback (most recent call last)",
      "Cell \u001b[1;32mIn[17], line 8\u001b[0m\n\u001b[0;32m      3\u001b[0m res_data\u001b[38;5;241m=\u001b[39m[]\n\u001b[0;32m      4\u001b[0m \u001b[38;5;66;03m# Make format of temp x resonators x power \u001b[39;00m\n\u001b[0;32m      5\u001b[0m \u001b[38;5;66;03m# This assumes we have the same resonators at each temperature.\u001b[39;00m\n\u001b[0;32m      6\u001b[0m \u001b[38;5;66;03m# each dictionary is for a different resoantors \u001b[39;00m\n\u001b[1;32m----> 8\u001b[0m temps \u001b[38;5;241m=\u001b[39m np\u001b[38;5;241m.\u001b[39marray([\u001b[38;5;28mfloat\u001b[39m(d[\u001b[38;5;241m7\u001b[39m:]) \u001b[38;5;28;01mfor\u001b[39;00m d \u001b[38;5;129;01min\u001b[39;00m directories])\n\u001b[0;32m      9\u001b[0m \u001b[38;5;28mprint\u001b[39m(temps)\n\u001b[0;32m     10\u001b[0m max_temp \u001b[38;5;241m=\u001b[39m \u001b[38;5;241m1500\u001b[39m\n",
      "Cell \u001b[1;32mIn[17], line 8\u001b[0m, in \u001b[0;36m<listcomp>\u001b[1;34m(.0)\u001b[0m\n\u001b[0;32m      3\u001b[0m res_data\u001b[38;5;241m=\u001b[39m[]\n\u001b[0;32m      4\u001b[0m \u001b[38;5;66;03m# Make format of temp x resonators x power \u001b[39;00m\n\u001b[0;32m      5\u001b[0m \u001b[38;5;66;03m# This assumes we have the same resonators at each temperature.\u001b[39;00m\n\u001b[0;32m      6\u001b[0m \u001b[38;5;66;03m# each dictionary is for a different resoantors \u001b[39;00m\n\u001b[1;32m----> 8\u001b[0m temps \u001b[38;5;241m=\u001b[39m np\u001b[38;5;241m.\u001b[39marray([\u001b[38;5;28mfloat\u001b[39m(d[\u001b[38;5;241m7\u001b[39m:]) \u001b[38;5;28;01mfor\u001b[39;00m d \u001b[38;5;129;01min\u001b[39;00m directories])\n\u001b[0;32m      9\u001b[0m \u001b[38;5;28mprint\u001b[39m(temps)\n\u001b[0;32m     10\u001b[0m max_temp \u001b[38;5;241m=\u001b[39m \u001b[38;5;241m1500\u001b[39m\n",
      "\u001b[1;31mValueError\u001b[0m: could not convert string to float: 'weep2'"
     ]
    }
   ],
   "source": [
    "#data = {'freqs':xdata*1e6, 'amps':20*np.log10(amp), 'phases':-phs_correct} \n",
    "# qi_phi_list is the one you get from rotation \n",
    "res_data=[]\n",
    "# Make format of temp x resonators x power \n",
    "# This assumes we have the same resonators at each temperature.\n",
    "# each dictionary is for a different resoantors \n",
    "\n",
    "temps = np.array([float(d[7:]) for d in directories])\n",
    "print(temps)\n",
    "max_temp = 1500\n",
    "inds = np.where(temps < max_temp)\n",
    "temps = temps[inds]\n",
    "directories = np.array(directories)[inds]\n",
    "inds = np.argsort(temps)\n",
    "temps = temps[inds]\n",
    "directories = directories[inds]\n",
    "print(directories)"
   ]
  },
  {
   "cell_type": "markdown",
   "metadata": {},
   "source": [
    "### Loop for processing R+S data for temp and power and res sweep\n",
    "\n",
    "Each folder is a given temp, combines resonators and powers. "
   ]
  },
  {
   "cell_type": "code",
   "execution_count": 25,
   "metadata": {},
   "outputs": [],
   "source": [
    "\n",
    "def analyze_sweep(directories):\n",
    "    pattern0 = r'res_(\\d+)_\\d{2}dbm'\n",
    "\n",
    "    resonators, file_list = get_resonators(directories[0], pattern0)\n",
    "    res_params = [None] * len(resonators)\n",
    "    for i in range(len(resonators)):\n",
    "        res_params[i] = {'freqs':[], 'phs':[], 'q':[], 'qi':[], 'qc':[], 'qi_phi':[], 'pow':[]}\n",
    "\n",
    "    for i in range(len(directories)):\n",
    "        start = time.time()\n",
    "        print(i)\n",
    "        output_path = './procdata_' + directories[i] + '/'\n",
    "        resonators, file_list0 = get_resonators(directories[i], pattern0)\n",
    "        pth = pth_base + directories[i]\n",
    "        for j in range(len(resonators)):\n",
    "            # Grab all the files for a given resonator, then sort by power. \n",
    "            pattern = 'res_{:d}_'.format(resonators[j]) + '\\d{2}dbm'\n",
    "            file_list = [file for file in file_list0 if re.search(pattern, file)]\n",
    "            file_list.sort()\n",
    "            file_list = file_list[::-1]\n",
    "            print(file_list)\n",
    "            params, err, power = [], [], []\n",
    "            for k in range(len(file_list)):\n",
    "                data, attrs = hy.prev_data(pth, file_list[k])\n",
    "\n",
    "                # Reformat data for scres package\n",
    "                data['phases'] = np.unwrap(data['phases'][0])\n",
    "                data['freqs']=data['fpts'][0]\n",
    "                data['amps']=data['mags'][0]\n",
    "\n",
    "                # Skip really noisy ones since they are slow\n",
    "\n",
    "                pow_curr = data['vna_power'][0]            \n",
    "                if pow_curr < min_power: \n",
    "                    continue\n",
    "                power.append(data['vna_power'][0])\n",
    "                try:\n",
    "                    output = fit_resonator(data, file_list[k], output_path, 'DCM')    \n",
    "                    params.append(output[0])\n",
    "                    err.append(output[1])\n",
    "                except: \n",
    "                    print('fit failed')\n",
    "                    params.append([np.nan,np.nan,np.nan,np.nan])\n",
    "                    err.append([np.nan,np.nan,np.nan,np.nan, np.nan, np.nan])\n",
    "\n",
    "            # Put all the data for a given resonator/temp in arrays. \n",
    "            power=np.array(power)\n",
    "            res_params[j]['pow'].append(power)\n",
    "            \n",
    "            q = np.array([params[k][0] for k in range(len(params))])\n",
    "            qc = np.array([params[k][1] for k in range(len(params))])\n",
    "            freq = np.array([params[k][2] for k in range(len(params))])\n",
    "            phase = np.array([params[k][3] for k in range(len(params))])\n",
    "            qi_phi = 1/(1/q-1/qc)\n",
    "            Qc_comp = qc / np.exp(1j * phase)\n",
    "            Qi = (q ** -1 - np.real(Qc_comp ** -1)) ** -1\n",
    "\n",
    "            res_params[j]['q'].append(q)\n",
    "            res_params[j]['qc'].append(qc)\n",
    "            res_params[j]['freqs'].append(freq)\n",
    "            res_params[j]['phs'].append(phase)\n",
    "            res_params[j]['qi_phi'].append(qi_phi)\n",
    "            res_params[j]['qi'].append(Qi)\n",
    "            \n",
    "            end = time.time()\n",
    "            print('Time elapsed: ', end-start)\n",
    "            inds = power >= -70\n",
    "            fig, ax = plt.subplots(2,1, figsize=(6,5), sharex=True)\n",
    "            ax[0].plot(power[inds], Qi[inds], '.', markersize=6)\n",
    "            ax[0].set_ylabel('$Q_i$')\n",
    "            ax[1].plot(power[inds], qc[inds], '.', markersize=6)\n",
    "            ax[1].set_ylabel('$Q_c$')\n",
    "            ax[1].set_xlabel('Power (dBm)')\n",
    "            fig.suptitle('$f_0 = $ {:3.3f} GHz'.format(freq[0]/1e9))\n",
    "            fig.tight_layout()\n",
    "            plt.savefig('/Users/sph/' + 'resonator_power_'+str(directories[i]) + str(resonators[j]) + '.png', dpi=300)\n",
    "\n",
    "    for i in range(len(resonators)):\n",
    "        for key in res_params[i].keys():\n",
    "            res_params[i][key] = np.array(res_params[i][key])\n",
    "\n",
    "    return res_params"
   ]
  },
  {
   "cell_type": "code",
   "execution_count": 26,
   "metadata": {},
   "outputs": [
    {
     "name": "stdout",
     "output_type": "stream",
     "text": [
      "8\n",
      "Counter({5825970: 6})\n",
      "0\n",
      "8\n",
      "Counter({5825970: 6})\n",
      "['res_5825970_25dbm', 'res_5825970_22dbm', 'res_5825970_19dbm', 'res_5825970_16dbm', 'res_5825970_13dbm', 'res_5825970_10dbm']\n",
      "Time elapsed:  1.6564409732818604\n"
     ]
    },
    {
     "ename": "FileNotFoundError",
     "evalue": "[Errno 2] No such file or directory: 'G:\\\\Users\\\\sph\\\\resonator_power_power_sweep15825970.png'",
     "output_type": "error",
     "traceback": [
      "\u001b[1;31m---------------------------------------------------------------------------\u001b[0m",
      "\u001b[1;31mFileNotFoundError\u001b[0m                         Traceback (most recent call last)",
      "Cell \u001b[1;32mIn[26], line 1\u001b[0m\n\u001b[1;32m----> 1\u001b[0m res_params0 \u001b[38;5;241m=\u001b[39m analyze_sweep([dir_base])\n",
      "Cell \u001b[1;32mIn[25], line 76\u001b[0m, in \u001b[0;36manalyze_sweep\u001b[1;34m(directories)\u001b[0m\n\u001b[0;32m     74\u001b[0m         fig\u001b[38;5;241m.\u001b[39msuptitle(\u001b[38;5;124m'\u001b[39m\u001b[38;5;124m$f_0 = $ \u001b[39m\u001b[38;5;132;01m{:3.3f}\u001b[39;00m\u001b[38;5;124m GHz\u001b[39m\u001b[38;5;124m'\u001b[39m\u001b[38;5;241m.\u001b[39mformat(freq[\u001b[38;5;241m0\u001b[39m]\u001b[38;5;241m/\u001b[39m\u001b[38;5;241m1e9\u001b[39m))\n\u001b[0;32m     75\u001b[0m         fig\u001b[38;5;241m.\u001b[39mtight_layout()\n\u001b[1;32m---> 76\u001b[0m         plt\u001b[38;5;241m.\u001b[39msavefig(\u001b[38;5;124m'\u001b[39m\u001b[38;5;124m/Users/sph/\u001b[39m\u001b[38;5;124m'\u001b[39m \u001b[38;5;241m+\u001b[39m \u001b[38;5;124m'\u001b[39m\u001b[38;5;124mresonator_power_\u001b[39m\u001b[38;5;124m'\u001b[39m\u001b[38;5;241m+\u001b[39m\u001b[38;5;28mstr\u001b[39m(directories[i]) \u001b[38;5;241m+\u001b[39m \u001b[38;5;28mstr\u001b[39m(resonators[j]) \u001b[38;5;241m+\u001b[39m \u001b[38;5;124m'\u001b[39m\u001b[38;5;124m.png\u001b[39m\u001b[38;5;124m'\u001b[39m, dpi\u001b[38;5;241m=\u001b[39m\u001b[38;5;241m300\u001b[39m)\n\u001b[0;32m     78\u001b[0m \u001b[38;5;28;01mfor\u001b[39;00m i \u001b[38;5;129;01min\u001b[39;00m \u001b[38;5;28mrange\u001b[39m(\u001b[38;5;28mlen\u001b[39m(resonators)):\n\u001b[0;32m     79\u001b[0m     \u001b[38;5;28;01mfor\u001b[39;00m key \u001b[38;5;129;01min\u001b[39;00m res_params[i]\u001b[38;5;241m.\u001b[39mkeys():\n",
      "File \u001b[1;32mc:\\ProgramData\\anaconda3\\envs\\slab\\Lib\\site-packages\\matplotlib\\pyplot.py:1134\u001b[0m, in \u001b[0;36msavefig\u001b[1;34m(*args, **kwargs)\u001b[0m\n\u001b[0;32m   1131\u001b[0m fig \u001b[38;5;241m=\u001b[39m gcf()\n\u001b[0;32m   1132\u001b[0m \u001b[38;5;66;03m# savefig default implementation has no return, so mypy is unhappy\u001b[39;00m\n\u001b[0;32m   1133\u001b[0m \u001b[38;5;66;03m# presumably this is here because subclasses can return?\u001b[39;00m\n\u001b[1;32m-> 1134\u001b[0m res \u001b[38;5;241m=\u001b[39m fig\u001b[38;5;241m.\u001b[39msavefig(\u001b[38;5;241m*\u001b[39margs, \u001b[38;5;241m*\u001b[39m\u001b[38;5;241m*\u001b[39mkwargs)  \u001b[38;5;66;03m# type: ignore[func-returns-value]\u001b[39;00m\n\u001b[0;32m   1135\u001b[0m fig\u001b[38;5;241m.\u001b[39mcanvas\u001b[38;5;241m.\u001b[39mdraw_idle()  \u001b[38;5;66;03m# Need this if 'transparent=True', to reset colors.\u001b[39;00m\n\u001b[0;32m   1136\u001b[0m \u001b[38;5;28;01mreturn\u001b[39;00m res\n",
      "File \u001b[1;32mc:\\ProgramData\\anaconda3\\envs\\slab\\Lib\\site-packages\\matplotlib\\figure.py:3390\u001b[0m, in \u001b[0;36mFigure.savefig\u001b[1;34m(self, fname, transparent, **kwargs)\u001b[0m\n\u001b[0;32m   3388\u001b[0m     \u001b[38;5;28;01mfor\u001b[39;00m ax \u001b[38;5;129;01min\u001b[39;00m \u001b[38;5;28mself\u001b[39m\u001b[38;5;241m.\u001b[39maxes:\n\u001b[0;32m   3389\u001b[0m         _recursively_make_axes_transparent(stack, ax)\n\u001b[1;32m-> 3390\u001b[0m \u001b[38;5;28mself\u001b[39m\u001b[38;5;241m.\u001b[39mcanvas\u001b[38;5;241m.\u001b[39mprint_figure(fname, \u001b[38;5;241m*\u001b[39m\u001b[38;5;241m*\u001b[39mkwargs)\n",
      "File \u001b[1;32mc:\\ProgramData\\anaconda3\\envs\\slab\\Lib\\site-packages\\matplotlib\\backend_bases.py:2193\u001b[0m, in \u001b[0;36mFigureCanvasBase.print_figure\u001b[1;34m(self, filename, dpi, facecolor, edgecolor, orientation, format, bbox_inches, pad_inches, bbox_extra_artists, backend, **kwargs)\u001b[0m\n\u001b[0;32m   2189\u001b[0m \u001b[38;5;28;01mtry\u001b[39;00m:\n\u001b[0;32m   2190\u001b[0m     \u001b[38;5;66;03m# _get_renderer may change the figure dpi (as vector formats\u001b[39;00m\n\u001b[0;32m   2191\u001b[0m     \u001b[38;5;66;03m# force the figure dpi to 72), so we need to set it again here.\u001b[39;00m\n\u001b[0;32m   2192\u001b[0m     \u001b[38;5;28;01mwith\u001b[39;00m cbook\u001b[38;5;241m.\u001b[39m_setattr_cm(\u001b[38;5;28mself\u001b[39m\u001b[38;5;241m.\u001b[39mfigure, dpi\u001b[38;5;241m=\u001b[39mdpi):\n\u001b[1;32m-> 2193\u001b[0m         result \u001b[38;5;241m=\u001b[39m print_method(\n\u001b[0;32m   2194\u001b[0m             filename,\n\u001b[0;32m   2195\u001b[0m             facecolor\u001b[38;5;241m=\u001b[39mfacecolor,\n\u001b[0;32m   2196\u001b[0m             edgecolor\u001b[38;5;241m=\u001b[39medgecolor,\n\u001b[0;32m   2197\u001b[0m             orientation\u001b[38;5;241m=\u001b[39morientation,\n\u001b[0;32m   2198\u001b[0m             bbox_inches_restore\u001b[38;5;241m=\u001b[39m_bbox_inches_restore,\n\u001b[0;32m   2199\u001b[0m             \u001b[38;5;241m*\u001b[39m\u001b[38;5;241m*\u001b[39mkwargs)\n\u001b[0;32m   2200\u001b[0m \u001b[38;5;28;01mfinally\u001b[39;00m:\n\u001b[0;32m   2201\u001b[0m     \u001b[38;5;28;01mif\u001b[39;00m bbox_inches \u001b[38;5;129;01mand\u001b[39;00m restore_bbox:\n",
      "File \u001b[1;32mc:\\ProgramData\\anaconda3\\envs\\slab\\Lib\\site-packages\\matplotlib\\backend_bases.py:2043\u001b[0m, in \u001b[0;36mFigureCanvasBase._switch_canvas_and_return_print_method.<locals>.<lambda>\u001b[1;34m(*args, **kwargs)\u001b[0m\n\u001b[0;32m   2039\u001b[0m     optional_kws \u001b[38;5;241m=\u001b[39m {  \u001b[38;5;66;03m# Passed by print_figure for other renderers.\u001b[39;00m\n\u001b[0;32m   2040\u001b[0m         \u001b[38;5;124m\"\u001b[39m\u001b[38;5;124mdpi\u001b[39m\u001b[38;5;124m\"\u001b[39m, \u001b[38;5;124m\"\u001b[39m\u001b[38;5;124mfacecolor\u001b[39m\u001b[38;5;124m\"\u001b[39m, \u001b[38;5;124m\"\u001b[39m\u001b[38;5;124medgecolor\u001b[39m\u001b[38;5;124m\"\u001b[39m, \u001b[38;5;124m\"\u001b[39m\u001b[38;5;124morientation\u001b[39m\u001b[38;5;124m\"\u001b[39m,\n\u001b[0;32m   2041\u001b[0m         \u001b[38;5;124m\"\u001b[39m\u001b[38;5;124mbbox_inches_restore\u001b[39m\u001b[38;5;124m\"\u001b[39m}\n\u001b[0;32m   2042\u001b[0m     skip \u001b[38;5;241m=\u001b[39m optional_kws \u001b[38;5;241m-\u001b[39m {\u001b[38;5;241m*\u001b[39minspect\u001b[38;5;241m.\u001b[39msignature(meth)\u001b[38;5;241m.\u001b[39mparameters}\n\u001b[1;32m-> 2043\u001b[0m     print_method \u001b[38;5;241m=\u001b[39m functools\u001b[38;5;241m.\u001b[39mwraps(meth)(\u001b[38;5;28;01mlambda\u001b[39;00m \u001b[38;5;241m*\u001b[39margs, \u001b[38;5;241m*\u001b[39m\u001b[38;5;241m*\u001b[39mkwargs: meth(\n\u001b[0;32m   2044\u001b[0m         \u001b[38;5;241m*\u001b[39margs, \u001b[38;5;241m*\u001b[39m\u001b[38;5;241m*\u001b[39m{k: v \u001b[38;5;28;01mfor\u001b[39;00m k, v \u001b[38;5;129;01min\u001b[39;00m kwargs\u001b[38;5;241m.\u001b[39mitems() \u001b[38;5;28;01mif\u001b[39;00m k \u001b[38;5;129;01mnot\u001b[39;00m \u001b[38;5;129;01min\u001b[39;00m skip}))\n\u001b[0;32m   2045\u001b[0m \u001b[38;5;28;01melse\u001b[39;00m:  \u001b[38;5;66;03m# Let third-parties do as they see fit.\u001b[39;00m\n\u001b[0;32m   2046\u001b[0m     print_method \u001b[38;5;241m=\u001b[39m meth\n",
      "File \u001b[1;32mc:\\ProgramData\\anaconda3\\envs\\slab\\Lib\\site-packages\\matplotlib\\backends\\backend_agg.py:497\u001b[0m, in \u001b[0;36mFigureCanvasAgg.print_png\u001b[1;34m(self, filename_or_obj, metadata, pil_kwargs)\u001b[0m\n\u001b[0;32m    450\u001b[0m \u001b[38;5;28;01mdef\u001b[39;00m \u001b[38;5;21mprint_png\u001b[39m(\u001b[38;5;28mself\u001b[39m, filename_or_obj, \u001b[38;5;241m*\u001b[39m, metadata\u001b[38;5;241m=\u001b[39m\u001b[38;5;28;01mNone\u001b[39;00m, pil_kwargs\u001b[38;5;241m=\u001b[39m\u001b[38;5;28;01mNone\u001b[39;00m):\n\u001b[0;32m    451\u001b[0m \u001b[38;5;250m    \u001b[39m\u001b[38;5;124;03m\"\"\"\u001b[39;00m\n\u001b[0;32m    452\u001b[0m \u001b[38;5;124;03m    Write the figure to a PNG file.\u001b[39;00m\n\u001b[0;32m    453\u001b[0m \n\u001b[1;32m   (...)\u001b[0m\n\u001b[0;32m    495\u001b[0m \u001b[38;5;124;03m        *metadata*, including the default 'Software' key.\u001b[39;00m\n\u001b[0;32m    496\u001b[0m \u001b[38;5;124;03m    \"\"\"\u001b[39;00m\n\u001b[1;32m--> 497\u001b[0m     \u001b[38;5;28mself\u001b[39m\u001b[38;5;241m.\u001b[39m_print_pil(filename_or_obj, \u001b[38;5;124m\"\u001b[39m\u001b[38;5;124mpng\u001b[39m\u001b[38;5;124m\"\u001b[39m, pil_kwargs, metadata)\n",
      "File \u001b[1;32mc:\\ProgramData\\anaconda3\\envs\\slab\\Lib\\site-packages\\matplotlib\\backends\\backend_agg.py:446\u001b[0m, in \u001b[0;36mFigureCanvasAgg._print_pil\u001b[1;34m(self, filename_or_obj, fmt, pil_kwargs, metadata)\u001b[0m\n\u001b[0;32m    441\u001b[0m \u001b[38;5;250m\u001b[39m\u001b[38;5;124;03m\"\"\"\u001b[39;00m\n\u001b[0;32m    442\u001b[0m \u001b[38;5;124;03mDraw the canvas, then save it using `.image.imsave` (to which\u001b[39;00m\n\u001b[0;32m    443\u001b[0m \u001b[38;5;124;03m*pil_kwargs* and *metadata* are forwarded).\u001b[39;00m\n\u001b[0;32m    444\u001b[0m \u001b[38;5;124;03m\"\"\"\u001b[39;00m\n\u001b[0;32m    445\u001b[0m FigureCanvasAgg\u001b[38;5;241m.\u001b[39mdraw(\u001b[38;5;28mself\u001b[39m)\n\u001b[1;32m--> 446\u001b[0m mpl\u001b[38;5;241m.\u001b[39mimage\u001b[38;5;241m.\u001b[39mimsave(\n\u001b[0;32m    447\u001b[0m     filename_or_obj, \u001b[38;5;28mself\u001b[39m\u001b[38;5;241m.\u001b[39mbuffer_rgba(), \u001b[38;5;28mformat\u001b[39m\u001b[38;5;241m=\u001b[39mfmt, origin\u001b[38;5;241m=\u001b[39m\u001b[38;5;124m\"\u001b[39m\u001b[38;5;124mupper\u001b[39m\u001b[38;5;124m\"\u001b[39m,\n\u001b[0;32m    448\u001b[0m     dpi\u001b[38;5;241m=\u001b[39m\u001b[38;5;28mself\u001b[39m\u001b[38;5;241m.\u001b[39mfigure\u001b[38;5;241m.\u001b[39mdpi, metadata\u001b[38;5;241m=\u001b[39mmetadata, pil_kwargs\u001b[38;5;241m=\u001b[39mpil_kwargs)\n",
      "File \u001b[1;32mc:\\ProgramData\\anaconda3\\envs\\slab\\Lib\\site-packages\\matplotlib\\image.py:1656\u001b[0m, in \u001b[0;36mimsave\u001b[1;34m(fname, arr, vmin, vmax, cmap, format, origin, dpi, metadata, pil_kwargs)\u001b[0m\n\u001b[0;32m   1654\u001b[0m pil_kwargs\u001b[38;5;241m.\u001b[39msetdefault(\u001b[38;5;124m\"\u001b[39m\u001b[38;5;124mformat\u001b[39m\u001b[38;5;124m\"\u001b[39m, \u001b[38;5;28mformat\u001b[39m)\n\u001b[0;32m   1655\u001b[0m pil_kwargs\u001b[38;5;241m.\u001b[39msetdefault(\u001b[38;5;124m\"\u001b[39m\u001b[38;5;124mdpi\u001b[39m\u001b[38;5;124m\"\u001b[39m, (dpi, dpi))\n\u001b[1;32m-> 1656\u001b[0m image\u001b[38;5;241m.\u001b[39msave(fname, \u001b[38;5;241m*\u001b[39m\u001b[38;5;241m*\u001b[39mpil_kwargs)\n",
      "File \u001b[1;32mc:\\ProgramData\\anaconda3\\envs\\slab\\Lib\\site-packages\\PIL\\Image.py:2456\u001b[0m, in \u001b[0;36mImage.save\u001b[1;34m(self, fp, format, **params)\u001b[0m\n\u001b[0;32m   2454\u001b[0m         fp \u001b[38;5;241m=\u001b[39m builtins\u001b[38;5;241m.\u001b[39mopen(filename, \u001b[38;5;124m\"\u001b[39m\u001b[38;5;124mr+b\u001b[39m\u001b[38;5;124m\"\u001b[39m)\n\u001b[0;32m   2455\u001b[0m     \u001b[38;5;28;01melse\u001b[39;00m:\n\u001b[1;32m-> 2456\u001b[0m         fp \u001b[38;5;241m=\u001b[39m builtins\u001b[38;5;241m.\u001b[39mopen(filename, \u001b[38;5;124m\"\u001b[39m\u001b[38;5;124mw+b\u001b[39m\u001b[38;5;124m\"\u001b[39m)\n\u001b[0;32m   2458\u001b[0m \u001b[38;5;28;01mtry\u001b[39;00m:\n\u001b[0;32m   2459\u001b[0m     save_handler(\u001b[38;5;28mself\u001b[39m, fp, filename)\n",
      "\u001b[1;31mFileNotFoundError\u001b[0m: [Errno 2] No such file or directory: 'G:\\\\Users\\\\sph\\\\resonator_power_power_sweep15825970.png'"
     ]
    },
    {
     "data": {
      "image/png": "[encoded data removed]",
      "text/plain": [
       "<Figure size 600x500 with 2 Axes>"
      ]
     },
     "metadata": {},
     "output_type": "display_data"
    }
   ],
   "source": [
    "res_params0 = analyze_sweep([dir_base])"
   ]
  },
  {
   "cell_type": "code",
   "execution_count": 27,
   "metadata": {},
   "outputs": [
    {
     "name": "stdout",
     "output_type": "stream",
     "text": [
      "10\n",
      "Counter({5825970: 8})\n",
      "0\n",
      "10\n",
      "Counter({5825970: 8})\n",
      "['res_5825970_31dbm', 'res_5825970_28dbm', 'res_5825970_25dbm', 'res_5825970_22dbm', 'res_5825970_19dbm', 'res_5825970_16dbm', 'res_5825970_13dbm', 'res_5825970_10dbm']\n",
      "Time elapsed:  2.2144904136657715\n"
     ]
    },
    {
     "ename": "FileNotFoundError",
     "evalue": "[Errno 2] No such file or directory: 'G:\\\\Users\\\\sph\\\\resonator_power_power_sweep25825970.png'",
     "output_type": "error",
     "traceback": [
      "\u001b[1;31m---------------------------------------------------------------------------\u001b[0m",
      "\u001b[1;31mFileNotFoundError\u001b[0m                         Traceback (most recent call last)",
      "Cell \u001b[1;32mIn[27], line 1\u001b[0m\n\u001b[1;32m----> 1\u001b[0m res_params\u001b[38;5;241m=\u001b[39manalyze_sweep(directories)\n",
      "Cell \u001b[1;32mIn[25], line 76\u001b[0m, in \u001b[0;36manalyze_sweep\u001b[1;34m(directories)\u001b[0m\n\u001b[0;32m     74\u001b[0m         fig\u001b[38;5;241m.\u001b[39msuptitle(\u001b[38;5;124m'\u001b[39m\u001b[38;5;124m$f_0 = $ \u001b[39m\u001b[38;5;132;01m{:3.3f}\u001b[39;00m\u001b[38;5;124m GHz\u001b[39m\u001b[38;5;124m'\u001b[39m\u001b[38;5;241m.\u001b[39mformat(freq[\u001b[38;5;241m0\u001b[39m]\u001b[38;5;241m/\u001b[39m\u001b[38;5;241m1e9\u001b[39m))\n\u001b[0;32m     75\u001b[0m         fig\u001b[38;5;241m.\u001b[39mtight_layout()\n\u001b[1;32m---> 76\u001b[0m         plt\u001b[38;5;241m.\u001b[39msavefig(\u001b[38;5;124m'\u001b[39m\u001b[38;5;124m/Users/sph/\u001b[39m\u001b[38;5;124m'\u001b[39m \u001b[38;5;241m+\u001b[39m \u001b[38;5;124m'\u001b[39m\u001b[38;5;124mresonator_power_\u001b[39m\u001b[38;5;124m'\u001b[39m\u001b[38;5;241m+\u001b[39m\u001b[38;5;28mstr\u001b[39m(directories[i]) \u001b[38;5;241m+\u001b[39m \u001b[38;5;28mstr\u001b[39m(resonators[j]) \u001b[38;5;241m+\u001b[39m \u001b[38;5;124m'\u001b[39m\u001b[38;5;124m.png\u001b[39m\u001b[38;5;124m'\u001b[39m, dpi\u001b[38;5;241m=\u001b[39m\u001b[38;5;241m300\u001b[39m)\n\u001b[0;32m     78\u001b[0m \u001b[38;5;28;01mfor\u001b[39;00m i \u001b[38;5;129;01min\u001b[39;00m \u001b[38;5;28mrange\u001b[39m(\u001b[38;5;28mlen\u001b[39m(resonators)):\n\u001b[0;32m     79\u001b[0m     \u001b[38;5;28;01mfor\u001b[39;00m key \u001b[38;5;129;01min\u001b[39;00m res_params[i]\u001b[38;5;241m.\u001b[39mkeys():\n",
      "File \u001b[1;32mc:\\ProgramData\\anaconda3\\envs\\slab\\Lib\\site-packages\\matplotlib\\pyplot.py:1134\u001b[0m, in \u001b[0;36msavefig\u001b[1;34m(*args, **kwargs)\u001b[0m\n\u001b[0;32m   1131\u001b[0m fig \u001b[38;5;241m=\u001b[39m gcf()\n\u001b[0;32m   1132\u001b[0m \u001b[38;5;66;03m# savefig default implementation has no return, so mypy is unhappy\u001b[39;00m\n\u001b[0;32m   1133\u001b[0m \u001b[38;5;66;03m# presumably this is here because subclasses can return?\u001b[39;00m\n\u001b[1;32m-> 1134\u001b[0m res \u001b[38;5;241m=\u001b[39m fig\u001b[38;5;241m.\u001b[39msavefig(\u001b[38;5;241m*\u001b[39margs, \u001b[38;5;241m*\u001b[39m\u001b[38;5;241m*\u001b[39mkwargs)  \u001b[38;5;66;03m# type: ignore[func-returns-value]\u001b[39;00m\n\u001b[0;32m   1135\u001b[0m fig\u001b[38;5;241m.\u001b[39mcanvas\u001b[38;5;241m.\u001b[39mdraw_idle()  \u001b[38;5;66;03m# Need this if 'transparent=True', to reset colors.\u001b[39;00m\n\u001b[0;32m   1136\u001b[0m \u001b[38;5;28;01mreturn\u001b[39;00m res\n",
      "File \u001b[1;32mc:\\ProgramData\\anaconda3\\envs\\slab\\Lib\\site-packages\\matplotlib\\figure.py:3390\u001b[0m, in \u001b[0;36mFigure.savefig\u001b[1;34m(self, fname, transparent, **kwargs)\u001b[0m\n\u001b[0;32m   3388\u001b[0m     \u001b[38;5;28;01mfor\u001b[39;00m ax \u001b[38;5;129;01min\u001b[39;00m \u001b[38;5;28mself\u001b[39m\u001b[38;5;241m.\u001b[39maxes:\n\u001b[0;32m   3389\u001b[0m         _recursively_make_axes_transparent(stack, ax)\n\u001b[1;32m-> 3390\u001b[0m \u001b[38;5;28mself\u001b[39m\u001b[38;5;241m.\u001b[39mcanvas\u001b[38;5;241m.\u001b[39mprint_figure(fname, \u001b[38;5;241m*\u001b[39m\u001b[38;5;241m*\u001b[39mkwargs)\n",
      "File \u001b[1;32mc:\\ProgramData\\anaconda3\\envs\\slab\\Lib\\site-packages\\matplotlib\\backend_bases.py:2193\u001b[0m, in \u001b[0;36mFigureCanvasBase.print_figure\u001b[1;34m(self, filename, dpi, facecolor, edgecolor, orientation, format, bbox_inches, pad_inches, bbox_extra_artists, backend, **kwargs)\u001b[0m\n\u001b[0;32m   2189\u001b[0m \u001b[38;5;28;01mtry\u001b[39;00m:\n\u001b[0;32m   2190\u001b[0m     \u001b[38;5;66;03m# _get_renderer may change the figure dpi (as vector formats\u001b[39;00m\n\u001b[0;32m   2191\u001b[0m     \u001b[38;5;66;03m# force the figure dpi to 72), so we need to set it again here.\u001b[39;00m\n\u001b[0;32m   2192\u001b[0m     \u001b[38;5;28;01mwith\u001b[39;00m cbook\u001b[38;5;241m.\u001b[39m_setattr_cm(\u001b[38;5;28mself\u001b[39m\u001b[38;5;241m.\u001b[39mfigure, dpi\u001b[38;5;241m=\u001b[39mdpi):\n\u001b[1;32m-> 2193\u001b[0m         result \u001b[38;5;241m=\u001b[39m print_method(\n\u001b[0;32m   2194\u001b[0m             filename,\n\u001b[0;32m   2195\u001b[0m             facecolor\u001b[38;5;241m=\u001b[39mfacecolor,\n\u001b[0;32m   2196\u001b[0m             edgecolor\u001b[38;5;241m=\u001b[39medgecolor,\n\u001b[0;32m   2197\u001b[0m             orientation\u001b[38;5;241m=\u001b[39morientation,\n\u001b[0;32m   2198\u001b[0m             bbox_inches_restore\u001b[38;5;241m=\u001b[39m_bbox_inches_restore,\n\u001b[0;32m   2199\u001b[0m             \u001b[38;5;241m*\u001b[39m\u001b[38;5;241m*\u001b[39mkwargs)\n\u001b[0;32m   2200\u001b[0m \u001b[38;5;28;01mfinally\u001b[39;00m:\n\u001b[0;32m   2201\u001b[0m     \u001b[38;5;28;01mif\u001b[39;00m bbox_inches \u001b[38;5;129;01mand\u001b[39;00m restore_bbox:\n",
      "File \u001b[1;32mc:\\ProgramData\\anaconda3\\envs\\slab\\Lib\\site-packages\\matplotlib\\backend_bases.py:2043\u001b[0m, in \u001b[0;36mFigureCanvasBase._switch_canvas_and_return_print_method.<locals>.<lambda>\u001b[1;34m(*args, **kwargs)\u001b[0m\n\u001b[0;32m   2039\u001b[0m     optional_kws \u001b[38;5;241m=\u001b[39m {  \u001b[38;5;66;03m# Passed by print_figure for other renderers.\u001b[39;00m\n\u001b[0;32m   2040\u001b[0m         \u001b[38;5;124m\"\u001b[39m\u001b[38;5;124mdpi\u001b[39m\u001b[38;5;124m\"\u001b[39m, \u001b[38;5;124m\"\u001b[39m\u001b[38;5;124mfacecolor\u001b[39m\u001b[38;5;124m\"\u001b[39m, \u001b[38;5;124m\"\u001b[39m\u001b[38;5;124medgecolor\u001b[39m\u001b[38;5;124m\"\u001b[39m, \u001b[38;5;124m\"\u001b[39m\u001b[38;5;124morientation\u001b[39m\u001b[38;5;124m\"\u001b[39m,\n\u001b[0;32m   2041\u001b[0m         \u001b[38;5;124m\"\u001b[39m\u001b[38;5;124mbbox_inches_restore\u001b[39m\u001b[38;5;124m\"\u001b[39m}\n\u001b[0;32m   2042\u001b[0m     skip \u001b[38;5;241m=\u001b[39m optional_kws \u001b[38;5;241m-\u001b[39m {\u001b[38;5;241m*\u001b[39minspect\u001b[38;5;241m.\u001b[39msignature(meth)\u001b[38;5;241m.\u001b[39mparameters}\n\u001b[1;32m-> 2043\u001b[0m     print_method \u001b[38;5;241m=\u001b[39m functools\u001b[38;5;241m.\u001b[39mwraps(meth)(\u001b[38;5;28;01mlambda\u001b[39;00m \u001b[38;5;241m*\u001b[39margs, \u001b[38;5;241m*\u001b[39m\u001b[38;5;241m*\u001b[39mkwargs: meth(\n\u001b[0;32m   2044\u001b[0m         \u001b[38;5;241m*\u001b[39margs, \u001b[38;5;241m*\u001b[39m\u001b[38;5;241m*\u001b[39m{k: v \u001b[38;5;28;01mfor\u001b[39;00m k, v \u001b[38;5;129;01min\u001b[39;00m kwargs\u001b[38;5;241m.\u001b[39mitems() \u001b[38;5;28;01mif\u001b[39;00m k \u001b[38;5;129;01mnot\u001b[39;00m \u001b[38;5;129;01min\u001b[39;00m skip}))\n\u001b[0;32m   2045\u001b[0m \u001b[38;5;28;01melse\u001b[39;00m:  \u001b[38;5;66;03m# Let third-parties do as they see fit.\u001b[39;00m\n\u001b[0;32m   2046\u001b[0m     print_method \u001b[38;5;241m=\u001b[39m meth\n",
      "File \u001b[1;32mc:\\ProgramData\\anaconda3\\envs\\slab\\Lib\\site-packages\\matplotlib\\backends\\backend_agg.py:497\u001b[0m, in \u001b[0;36mFigureCanvasAgg.print_png\u001b[1;34m(self, filename_or_obj, metadata, pil_kwargs)\u001b[0m\n\u001b[0;32m    450\u001b[0m \u001b[38;5;28;01mdef\u001b[39;00m \u001b[38;5;21mprint_png\u001b[39m(\u001b[38;5;28mself\u001b[39m, filename_or_obj, \u001b[38;5;241m*\u001b[39m, metadata\u001b[38;5;241m=\u001b[39m\u001b[38;5;28;01mNone\u001b[39;00m, pil_kwargs\u001b[38;5;241m=\u001b[39m\u001b[38;5;28;01mNone\u001b[39;00m):\n\u001b[0;32m    451\u001b[0m \u001b[38;5;250m    \u001b[39m\u001b[38;5;124;03m\"\"\"\u001b[39;00m\n\u001b[0;32m    452\u001b[0m \u001b[38;5;124;03m    Write the figure to a PNG file.\u001b[39;00m\n\u001b[0;32m    453\u001b[0m \n\u001b[1;32m   (...)\u001b[0m\n\u001b[0;32m    495\u001b[0m \u001b[38;5;124;03m        *metadata*, including the default 'Software' key.\u001b[39;00m\n\u001b[0;32m    496\u001b[0m \u001b[38;5;124;03m    \"\"\"\u001b[39;00m\n\u001b[1;32m--> 497\u001b[0m     \u001b[38;5;28mself\u001b[39m\u001b[38;5;241m.\u001b[39m_print_pil(filename_or_obj, \u001b[38;5;124m\"\u001b[39m\u001b[38;5;124mpng\u001b[39m\u001b[38;5;124m\"\u001b[39m, pil_kwargs, metadata)\n",
      "File \u001b[1;32mc:\\ProgramData\\anaconda3\\envs\\slab\\Lib\\site-packages\\matplotlib\\backends\\backend_agg.py:446\u001b[0m, in \u001b[0;36mFigureCanvasAgg._print_pil\u001b[1;34m(self, filename_or_obj, fmt, pil_kwargs, metadata)\u001b[0m\n\u001b[0;32m    441\u001b[0m \u001b[38;5;250m\u001b[39m\u001b[38;5;124;03m\"\"\"\u001b[39;00m\n\u001b[0;32m    442\u001b[0m \u001b[38;5;124;03mDraw the canvas, then save it using `.image.imsave` (to which\u001b[39;00m\n\u001b[0;32m    443\u001b[0m \u001b[38;5;124;03m*pil_kwargs* and *metadata* are forwarded).\u001b[39;00m\n\u001b[0;32m    444\u001b[0m \u001b[38;5;124;03m\"\"\"\u001b[39;00m\n\u001b[0;32m    445\u001b[0m FigureCanvasAgg\u001b[38;5;241m.\u001b[39mdraw(\u001b[38;5;28mself\u001b[39m)\n\u001b[1;32m--> 446\u001b[0m mpl\u001b[38;5;241m.\u001b[39mimage\u001b[38;5;241m.\u001b[39mimsave(\n\u001b[0;32m    447\u001b[0m     filename_or_obj, \u001b[38;5;28mself\u001b[39m\u001b[38;5;241m.\u001b[39mbuffer_rgba(), \u001b[38;5;28mformat\u001b[39m\u001b[38;5;241m=\u001b[39mfmt, origin\u001b[38;5;241m=\u001b[39m\u001b[38;5;124m\"\u001b[39m\u001b[38;5;124mupper\u001b[39m\u001b[38;5;124m\"\u001b[39m,\n\u001b[0;32m    448\u001b[0m     dpi\u001b[38;5;241m=\u001b[39m\u001b[38;5;28mself\u001b[39m\u001b[38;5;241m.\u001b[39mfigure\u001b[38;5;241m.\u001b[39mdpi, metadata\u001b[38;5;241m=\u001b[39mmetadata, pil_kwargs\u001b[38;5;241m=\u001b[39mpil_kwargs)\n",
      "File \u001b[1;32mc:\\ProgramData\\anaconda3\\envs\\slab\\Lib\\site-packages\\matplotlib\\image.py:1656\u001b[0m, in \u001b[0;36mimsave\u001b[1;34m(fname, arr, vmin, vmax, cmap, format, origin, dpi, metadata, pil_kwargs)\u001b[0m\n\u001b[0;32m   1654\u001b[0m pil_kwargs\u001b[38;5;241m.\u001b[39msetdefault(\u001b[38;5;124m\"\u001b[39m\u001b[38;5;124mformat\u001b[39m\u001b[38;5;124m\"\u001b[39m, \u001b[38;5;28mformat\u001b[39m)\n\u001b[0;32m   1655\u001b[0m pil_kwargs\u001b[38;5;241m.\u001b[39msetdefault(\u001b[38;5;124m\"\u001b[39m\u001b[38;5;124mdpi\u001b[39m\u001b[38;5;124m\"\u001b[39m, (dpi, dpi))\n\u001b[1;32m-> 1656\u001b[0m image\u001b[38;5;241m.\u001b[39msave(fname, \u001b[38;5;241m*\u001b[39m\u001b[38;5;241m*\u001b[39mpil_kwargs)\n",
      "File \u001b[1;32mc:\\ProgramData\\anaconda3\\envs\\slab\\Lib\\site-packages\\PIL\\Image.py:2456\u001b[0m, in \u001b[0;36mImage.save\u001b[1;34m(self, fp, format, **params)\u001b[0m\n\u001b[0;32m   2454\u001b[0m         fp \u001b[38;5;241m=\u001b[39m builtins\u001b[38;5;241m.\u001b[39mopen(filename, \u001b[38;5;124m\"\u001b[39m\u001b[38;5;124mr+b\u001b[39m\u001b[38;5;124m\"\u001b[39m)\n\u001b[0;32m   2455\u001b[0m     \u001b[38;5;28;01melse\u001b[39;00m:\n\u001b[1;32m-> 2456\u001b[0m         fp \u001b[38;5;241m=\u001b[39m builtins\u001b[38;5;241m.\u001b[39mopen(filename, \u001b[38;5;124m\"\u001b[39m\u001b[38;5;124mw+b\u001b[39m\u001b[38;5;124m\"\u001b[39m)\n\u001b[0;32m   2458\u001b[0m \u001b[38;5;28;01mtry\u001b[39;00m:\n\u001b[0;32m   2459\u001b[0m     save_handler(\u001b[38;5;28mself\u001b[39m, fp, filename)\n",
      "\u001b[1;31mFileNotFoundError\u001b[0m: [Errno 2] No such file or directory: 'G:\\\\Users\\\\sph\\\\resonator_power_power_sweep25825970.png'"
     ]
    },
    {
     "data": {
      "image/png": "[encoded data removed]",
      "text/plain": [
       "<Figure size 600x500 with 2 Axes>"
      ]
     },
     "metadata": {},
     "output_type": "display_data"
    }
   ],
   "source": [
    "res_params=analyze_sweep(directories)"
   ]
  },
  {
   "cell_type": "markdown",
   "metadata": {},
   "source": [
    "### Plot qualities vs temp and power"
   ]
  },
  {
   "cell_type": "code",
   "execution_count": 28,
   "metadata": {},
   "outputs": [
    {
     "ename": "NameError",
     "evalue": "name 'temps' is not defined",
     "output_type": "error",
     "traceback": [
      "\u001b[1;31m---------------------------------------------------------------------------\u001b[0m",
      "\u001b[1;31mNameError\u001b[0m                                 Traceback (most recent call last)",
      "Cell \u001b[1;32mIn[28], line 6\u001b[0m\n\u001b[0;32m      3\u001b[0m plt\u001b[38;5;241m.\u001b[39mrcParams[\u001b[38;5;124m'\u001b[39m\u001b[38;5;124mlines.markersize\u001b[39m\u001b[38;5;124m'\u001b[39m] \u001b[38;5;241m=\u001b[39m \u001b[38;5;241m4\u001b[39m\n\u001b[0;32m      4\u001b[0m plt\u001b[38;5;241m.\u001b[39mrcParams[\u001b[38;5;124m'\u001b[39m\u001b[38;5;124mlines.linewidth\u001b[39m\u001b[38;5;124m'\u001b[39m] \u001b[38;5;241m=\u001b[39m \u001b[38;5;241m1\u001b[39m\n\u001b[1;32m----> 6\u001b[0m inds \u001b[38;5;241m=\u001b[39m np\u001b[38;5;241m.\u001b[39margsort(temps)\n\u001b[0;32m      7\u001b[0m en \u001b[38;5;241m=\u001b[39m \u001b[38;5;241m1e-3\u001b[39m\u001b[38;5;241m*\u001b[39mtemps[inds]\u001b[38;5;241m*\u001b[39mcs\u001b[38;5;241m.\u001b[39mk\u001b[38;5;241m/\u001b[39mcs\u001b[38;5;241m.\u001b[39mh\u001b[38;5;241m/\u001b[39mres_params[i][\u001b[38;5;124m'\u001b[39m\u001b[38;5;124mfreqs\u001b[39m\u001b[38;5;124m'\u001b[39m][inds,\u001b[38;5;241m0\u001b[39m]\n\u001b[0;32m      8\u001b[0m \u001b[38;5;28;01mif\u001b[39;00m xval \u001b[38;5;241m==\u001b[39m \u001b[38;5;124m'\u001b[39m\u001b[38;5;124mtemp\u001b[39m\u001b[38;5;124m'\u001b[39m: \n",
      "\u001b[1;31mNameError\u001b[0m: name 'temps' is not defined"
     ]
    }
   ],
   "source": [
    "i=5\n",
    "xval = 'temp' \n",
    "plt.rcParams['lines.markersize'] = 4\n",
    "plt.rcParams['lines.linewidth'] = 1\n",
    "\n",
    "inds = np.argsort(temps)\n",
    "en = 1e-3*temps[inds]*cs.k/cs.h/res_params[i]['freqs'][inds,0]\n",
    "if xval == 'temp': \n",
    "    x = temps[inds]\n",
    "    xlab = 'Temperature (mK)'\n",
    "else:     \n",
    "    x=en\n",
    "    xlab = '$k_B T / h f_0$'\n",
    "\n",
    "min_freq = np.nanmin(res_params[i]['freqs'][inds,:])\n",
    "sns.set_palette('coolwarm', n_colors=res_params[0]['pow'].shape[1])\n",
    "\n",
    "# Temperature sweep \n",
    "fig, ax = plt.subplots(4,1, figsize=(6,9), sharex=True) \n",
    "for j in range(res_params[i]['pow'].shape[1]):\n",
    "    ax[0].plot(x, res_params[i]['qi'][inds,j], '.-')\n",
    "    #ax[1].plot(temps[inds], res_params[i]['qi'][inds,j]/res_params[i]['qi'][inds,j][0], '.-')\n",
    "    ax[1].plot(x, res_params[i]['qi'][inds,j]/np.max(res_params[i]['qi'][inds,j]), '.-')\n",
    "    ax[2].plot(x, res_params[i]['qc'][inds,j], '.-')\n",
    "    ax[3].plot(x, (res_params[i]['freqs'][inds,j]-min_freq)/min_freq, '.-')\n",
    "\n",
    "\n",
    "# norm = plt.Normalize(np.min(temps), np.max(temps))\n",
    "# sm = plt.cm.ScalarMappable(cmap=\"coolwarm\", norm=norm)\n",
    "# ax[1].figure.colorbar(sm, ax=ax[1])\n",
    "\n",
    "#norm = plt.Normalize(np.min(res_params[i]['pow']), np.max(res_params[i]['pow']))\n",
    "#sm = plt.cm.ScalarMappable(cmap=\"coolwarm\", norm=norm)\n",
    "#ax[0].figure.colorbar(sm, ax=ax[0])\n",
    "\n",
    "ax[0].set_ylabel('$Q_i$')\n",
    "ax[1].set_ylabel('$Q_i/Q_i(0)$')\n",
    "ax[2].set_ylabel('$Q_c$')\n",
    "ax[3].set_xlabel('Temperature (mK)')\n",
    "ax[3].set_xlabel(xlab)\n",
    "ax[3].set_ylabel('$\\Delta f/f_0$')\n",
    "\n",
    "fig.tight_layout()\n",
    "sns.set_palette('coolwarm', n_colors=res_params[0]['pow'].shape[0]+1)\n",
    "\n",
    "fig, ax = plt.subplots(2,1, figsize=(6,6), sharex=True) \n",
    "#sns.set_palette('coolwarm', n_colors=res_params[0]['pow'].shape[0]-2)\n",
    "\n",
    "\n",
    "ax[0].plot(res_params0[i]['pow'][0], res_params0[i]['qi'][0], '.-', label='60') #str(temps[j])+ ' mK'\n",
    "ax[1].plot(res_params0[i]['pow'][0], res_params0[i]['qi'][0]/np.max(res_params0[i]['qi'][0]), '.-', label='60') #str(temps[j])+ ' mK'\n",
    "\n",
    "for j in inds:\n",
    "    ax[0].plot(res_params[i]['pow'][j,:], res_params[i]['qi'][j,:], '.-', label=int(temps[j])) #str(temps[j])+ ' mK'    \n",
    "    ax[1].plot(res_params[i]['pow'][j,:], res_params[i]['qi'][j,:]/np.max(res_params[i]['qi'][j,:]), '.-')\n",
    "    #ax[1].plot(res_params[i]['pow'][0,:], res_params[i]['qi'][j,:]/res_params[i]['qi'][j,:][0], '.-')\n",
    "\n",
    "\n",
    "ax[0].set_ylabel('$Q_i$')\n",
    "ax[1].set_ylabel('$Q_i/Q_i(0)$')\n",
    "ax[1].set_xlabel('Power (dBm)')\n",
    "\n",
    "ax[0].legend(fontsize=8)\n",
    "fig.tight_layout()"
   ]
  },
  {
   "cell_type": "code",
   "execution_count": 29,
   "metadata": {},
   "outputs": [
    {
     "ename": "NameError",
     "evalue": "name 'temps' is not defined",
     "output_type": "error",
     "traceback": [
      "\u001b[1;31m---------------------------------------------------------------------------\u001b[0m",
      "\u001b[1;31mNameError\u001b[0m                                 Traceback (most recent call last)",
      "Cell \u001b[1;32mIn[29], line 11\u001b[0m\n\u001b[0;32m      9\u001b[0m plt\u001b[38;5;241m.\u001b[39mrcParams[\u001b[38;5;124m'\u001b[39m\u001b[38;5;124mlines.markersize\u001b[39m\u001b[38;5;124m'\u001b[39m] \u001b[38;5;241m=\u001b[39m \u001b[38;5;241m6\u001b[39m\n\u001b[0;32m     10\u001b[0m plt\u001b[38;5;241m.\u001b[39mrcParams[\u001b[38;5;124m'\u001b[39m\u001b[38;5;124mlines.linewidth\u001b[39m\u001b[38;5;124m'\u001b[39m] \u001b[38;5;241m=\u001b[39m \u001b[38;5;241m1.5\u001b[39m\n\u001b[1;32m---> 11\u001b[0m inds \u001b[38;5;241m=\u001b[39m np\u001b[38;5;241m.\u001b[39margsort(temps)\n\u001b[0;32m     12\u001b[0m en \u001b[38;5;241m=\u001b[39m \u001b[38;5;241m1e-3\u001b[39m\u001b[38;5;241m*\u001b[39mtemps[inds]\u001b[38;5;241m*\u001b[39mcs\u001b[38;5;241m.\u001b[39mk\u001b[38;5;241m/\u001b[39mcs\u001b[38;5;241m.\u001b[39mh\u001b[38;5;241m/\u001b[39mres_params[i][\u001b[38;5;124m'\u001b[39m\u001b[38;5;124mfreqs\u001b[39m\u001b[38;5;124m'\u001b[39m][inds,\u001b[38;5;241m0\u001b[39m]\n\u001b[0;32m     13\u001b[0m \u001b[38;5;28;01mif\u001b[39;00m xval \u001b[38;5;241m==\u001b[39m \u001b[38;5;124m'\u001b[39m\u001b[38;5;124mtemp\u001b[39m\u001b[38;5;124m'\u001b[39m: \n",
      "\u001b[1;31mNameError\u001b[0m: name 'temps' is not defined"
     ]
    }
   ],
   "source": [
    "colors = ['#4053d3', '#b51d14', '#ddb310','#00b25d','#00beff', '#fb49b0', '#cacaca']\n",
    "colors = ['#4053d3', '#b51d14', '#ddb310','#00b25d','#00beff', '#c94cbe', '#cacaca']\n",
    "colors = ['#4053d3', '#b51d14', '#ddb310','#00b25d','#7bc8f6', '#ce5dae', '#cacaca']\n",
    "colors = ['#4053d3', '#b51d14', '#ddb310','#02ab2e','#06b1c4', '#ce5dae', '#cacaca']\n",
    "#0e87cc\n",
    "\n",
    "sns.set_palette(colors)\n",
    "xval = 'temp' \n",
    "plt.rcParams['lines.markersize'] = 6\n",
    "plt.rcParams['lines.linewidth'] = 1.5\n",
    "inds = np.argsort(temps)\n",
    "en = 1e-3*temps[inds]*cs.k/cs.h/res_params[i]['freqs'][inds,0]\n",
    "if xval == 'temp': \n",
    "    x = temps[inds]\n",
    "    xlab = 'Temperature (mK)'\n",
    "else:     \n",
    "    x=en\n",
    "    xlab = '$k_B T / h f_0$'\n",
    "\n",
    "res_params[i]['qi'][inds,j]/np.max(res_params[i]['qi'][inds,j])\n",
    "\n",
    "j=0\n",
    "# Temperature sweep \n",
    "fig, ax = plt.subplots(2,1, figsize=(6,6), sharex=True) \n",
    "\n",
    "\n",
    "\n",
    "for i in range(len(res_params)):\n",
    "    inds2 = res_params[i]['qi'][inds,j]/np.max(res_params[i]['qi'][inds,j]) > 0.72\n",
    "    min_freq = np.nanmin(res_params[i]['freqs'][inds,:])\n",
    "    x = temps[inds2]\n",
    "\n",
    "    ax[0].plot(x, res_params[i]['qi'][inds2,j]/np.max(res_params[i]['qi'][inds2,j]), '.-')\n",
    "    ax[1].plot(x, (res_params[i]['freqs'][inds2,j]-min_freq)/min_freq, '.-')\n",
    "\n",
    "ax[0].set_ylabel('$Q_i/Q_{i,max}$')\n",
    "ax[1].set_xlabel(xlab)\n",
    "ax[1].set_ylabel('$\\Delta f/f_0$')\n",
    "plt.savefig('/Users/sph/' + 'temp_sweep.png', dpi=300)"
   ]
  },
  {
   "cell_type": "code",
   "execution_count": 30,
   "metadata": {},
   "outputs": [
    {
     "ename": "NameError",
     "evalue": "name 'temps' is not defined",
     "output_type": "error",
     "traceback": [
      "\u001b[1;31m---------------------------------------------------------------------------\u001b[0m",
      "\u001b[1;31mNameError\u001b[0m                                 Traceback (most recent call last)",
      "Cell \u001b[1;32mIn[30], line 1\u001b[0m\n\u001b[1;32m----> 1\u001b[0m temps\n",
      "\u001b[1;31mNameError\u001b[0m: name 'temps' is not defined"
     ]
    }
   ],
   "source": [
    "temps"
   ]
  },
  {
   "cell_type": "code",
   "execution_count": 31,
   "metadata": {},
   "outputs": [
    {
     "ename": "NameError",
     "evalue": "name 'res_params' is not defined",
     "output_type": "error",
     "traceback": [
      "\u001b[1;31m---------------------------------------------------------------------------\u001b[0m",
      "\u001b[1;31mNameError\u001b[0m                                 Traceback (most recent call last)",
      "Cell \u001b[1;32mIn[31], line 1\u001b[0m\n\u001b[1;32m----> 1\u001b[0m inds \u001b[38;5;241m=\u001b[39m res_params[i][\u001b[38;5;124m'\u001b[39m\u001b[38;5;124mqi\u001b[39m\u001b[38;5;124m'\u001b[39m][:,j]\u001b[38;5;241m/\u001b[39mnp\u001b[38;5;241m.\u001b[39mmax(res_params[i][\u001b[38;5;124m'\u001b[39m\u001b[38;5;124mqi\u001b[39m\u001b[38;5;124m'\u001b[39m][inds,j]) \u001b[38;5;241m>\u001b[39m \u001b[38;5;241m0.7\u001b[39m\n",
      "\u001b[1;31mNameError\u001b[0m: name 'res_params' is not defined"
     ]
    }
   ],
   "source": [
    "inds = res_params[i]['qi'][:,j]/np.max(res_params[i]['qi'][inds,j]) > 0.7\n"
   ]
  },
  {
   "cell_type": "code",
   "execution_count": 32,
   "metadata": {},
   "outputs": [
    {
     "ename": "NameError",
     "evalue": "name 'res_params0' is not defined",
     "output_type": "error",
     "traceback": [
      "\u001b[1;31m---------------------------------------------------------------------------\u001b[0m",
      "\u001b[1;31mNameError\u001b[0m                                 Traceback (most recent call last)",
      "Cell \u001b[1;32mIn[32], line 10\u001b[0m\n\u001b[0;32m      6\u001b[0m \u001b[38;5;66;03m#sns.set_palette('coolwarm', n_colors=res_params[0]['pow'].shape[0]-2)\u001b[39;00m\n\u001b[0;32m      8\u001b[0m plt\u001b[38;5;241m.\u001b[39mrcParams[\u001b[38;5;124m'\u001b[39m\u001b[38;5;124mlines.markersize\u001b[39m\u001b[38;5;124m'\u001b[39m] \u001b[38;5;241m=\u001b[39m \u001b[38;5;241m4\u001b[39m\n\u001b[1;32m---> 10\u001b[0m \u001b[38;5;28;01mfor\u001b[39;00m i \u001b[38;5;129;01min\u001b[39;00m \u001b[38;5;28mrange\u001b[39m(\u001b[38;5;28mlen\u001b[39m(res_params0)):\n\u001b[0;32m     11\u001b[0m     ax[\u001b[38;5;241m0\u001b[39m]\u001b[38;5;241m.\u001b[39mplot(res_params0[i][\u001b[38;5;124m'\u001b[39m\u001b[38;5;124mpow\u001b[39m\u001b[38;5;124m'\u001b[39m][\u001b[38;5;241m0\u001b[39m], res_params0[i][\u001b[38;5;124m'\u001b[39m\u001b[38;5;124mqi\u001b[39m\u001b[38;5;124m'\u001b[39m][\u001b[38;5;241m0\u001b[39m], \u001b[38;5;124m'\u001b[39m\u001b[38;5;124m.-\u001b[39m\u001b[38;5;124m'\u001b[39m, label\u001b[38;5;241m=\u001b[39m\u001b[38;5;28mround\u001b[39m(np\u001b[38;5;241m.\u001b[39mmin(res_params0[i][\u001b[38;5;124m'\u001b[39m\u001b[38;5;124mfreqs\u001b[39m\u001b[38;5;124m'\u001b[39m]\u001b[38;5;241m/\u001b[39m\u001b[38;5;241m1e9\u001b[39m),\u001b[38;5;241m4\u001b[39m)) \u001b[38;5;66;03m#str(temps[j])+ ' mK'\u001b[39;00m\n\u001b[0;32m     12\u001b[0m     ax[\u001b[38;5;241m1\u001b[39m]\u001b[38;5;241m.\u001b[39mplot(res_params0[i][\u001b[38;5;124m'\u001b[39m\u001b[38;5;124mpow\u001b[39m\u001b[38;5;124m'\u001b[39m][\u001b[38;5;241m0\u001b[39m], res_params0[i][\u001b[38;5;124m'\u001b[39m\u001b[38;5;124mqi\u001b[39m\u001b[38;5;124m'\u001b[39m][\u001b[38;5;241m0\u001b[39m]\u001b[38;5;241m/\u001b[39mnp\u001b[38;5;241m.\u001b[39mmax(res_params0[i][\u001b[38;5;124m'\u001b[39m\u001b[38;5;124mqi\u001b[39m\u001b[38;5;124m'\u001b[39m][\u001b[38;5;241m0\u001b[39m]), \u001b[38;5;124m'\u001b[39m\u001b[38;5;124m.-\u001b[39m\u001b[38;5;124m'\u001b[39m, label\u001b[38;5;241m=\u001b[39m\u001b[38;5;124m'\u001b[39m\u001b[38;5;124m60\u001b[39m\u001b[38;5;124m'\u001b[39m) \u001b[38;5;66;03m#str(temps[j])+ ' mK'\u001b[39;00m\n",
      "\u001b[1;31mNameError\u001b[0m: name 'res_params0' is not defined"
     ]
    },
    {
     "data": {
      "image/png": "[encoded data removed]",
      "text/plain": [
       "<Figure size 600x600 with 2 Axes>"
      ]
     },
     "metadata": {},
     "output_type": "display_data"
    }
   ],
   "source": [
    "colors = ['#1b9e77','#d95f02','#7570b3','#e7298a','#66a61e','#e6ab02']\n",
    "colors = ['#4053d3', '#b51d14', '#ddb310','#00b25d','#00beff', '#fb49b0', '#cacaca']\n",
    "sns.set_palette(colors)\n",
    "#sns.set_palette('husl', n_colors=6)\n",
    "fig, ax = plt.subplots(2,1, figsize=(6,6), sharex=True) \n",
    "#sns.set_palette('coolwarm', n_colors=res_params[0]['pow'].shape[0]-2)\n",
    "\n",
    "plt.rcParams['lines.markersize'] = 4\n",
    "\n",
    "for i in range(len(res_params0)):\n",
    "    ax[0].plot(res_params0[i]['pow'][0], res_params0[i]['qi'][0], '.-', label=round(np.min(res_params0[i]['freqs']/1e9),4)) #str(temps[j])+ ' mK'\n",
    "    ax[1].plot(res_params0[i]['pow'][0], res_params0[i]['qi'][0]/np.max(res_params0[i]['qi'][0]), '.-', label='60') #str(temps[j])+ ' mK'\n",
    "    ax[0].legend()\n",
    "\n",
    "ax[1].set_xlabel('Power')\n",
    "ax[0].set_ylabel('$Q_i$')\n",
    "ax[1].set_ylabel('$Q_i/Q_{i,max}$')\n",
    "ax[0].set_title('60 mK')\n",
    "fig.tight_layout()\n",
    "fig.savefig('/Users/sph/' + 'Qi_pow.png', dpi=300)\n",
    "\n",
    "fig, ax = plt.subplots(2,1, figsize=(6,6), sharex=True) \n",
    "\n",
    "j=0\n",
    "for i in range(len(res_params)):\n",
    "    ax[0].plot(res_params[i]['pow'][j,:], res_params[i]['qi'][j,:], '.-', label=round(np.min(res_params[i]['freqs']/1e9),4)) #str(temps[j])+ ' mK'    \n",
    "    ax[1].plot(res_params[i]['pow'][j,:], res_params[i]['qi'][j,:]/np.max(res_params[i]['qi'][j,:]), '.-')\n",
    "\n",
    "ax[0].legend()\n",
    "ax[1].set_xlabel('Power')\n",
    "ax[0].set_ylabel('$Q_i$')\n",
    "ax[1].set_ylabel('$Q_i/Q_{i,max}$')\n",
    "ax[0].set_title('120 mK')\n",
    "fig.tight_layout()\n",
    "\n",
    "fig.savefig('/Users/sph/' + 'Qi_pow2.png', dpi=300)\n",
    "\n",
    "fig, ax = plt.subplots(1,1, figsize=(5,4))\n",
    "freqs = np.array([np.min(res_params[i]['freqs'])/1e9 for i in range(len(res_params))])\n",
    "qc = np.array([np.min(res_params[i]['qc']) for i in range(len(res_params))])\n",
    "\n",
    "ax.plot(freqs, qc, '.', markersize=10)\n",
    "ax.set_xlabel('Frequency (GHz)')\n",
    "ax.set_ylabel('$Q_c$')\n",
    "fig.tight_layout()\n",
    "\n",
    "fig.savefig('/Users/sph/' + 'Qc_vs_freq.png', dpi=300)"
   ]
  },
  {
   "cell_type": "markdown",
   "metadata": {},
   "source": [
    "### Plot corrected data "
   ]
  },
  {
   "cell_type": "code",
   "execution_count": 33,
   "metadata": {},
   "outputs": [
    {
     "ename": "NameError",
     "evalue": "name 'resonators' is not defined",
     "output_type": "error",
     "traceback": [
      "\u001b[1;31m---------------------------------------------------------------------------\u001b[0m",
      "\u001b[1;31mNameError\u001b[0m                                 Traceback (most recent call last)",
      "Cell \u001b[1;32mIn[33], line 10\u001b[0m\n\u001b[0;32m      7\u001b[0m fig3, ax3 \u001b[38;5;241m=\u001b[39m plt\u001b[38;5;241m.\u001b[39msubplots(\u001b[38;5;241m2\u001b[39m,\u001b[38;5;241m3\u001b[39m, figsize\u001b[38;5;241m=\u001b[39m(\u001b[38;5;241m12\u001b[39m,\u001b[38;5;241m6\u001b[39m), sharex\u001b[38;5;241m=\u001b[39m\u001b[38;5;28;01mTrue\u001b[39;00m)\n\u001b[0;32m      8\u001b[0m ax3 \u001b[38;5;241m=\u001b[39m ax3\u001b[38;5;241m.\u001b[39mflatten()\n\u001b[1;32m---> 10\u001b[0m \u001b[38;5;28;01mfor\u001b[39;00m i \u001b[38;5;129;01min\u001b[39;00m \u001b[38;5;28mrange\u001b[39m(\u001b[38;5;28mlen\u001b[39m(resonators)):\n\u001b[0;32m     11\u001b[0m     inds\u001b[38;5;241m=\u001b[39mpow_list[i]\u001b[38;5;241m>\u001b[39m\u001b[38;5;241m-\u001b[39m\u001b[38;5;241m70\u001b[39m\n\u001b[0;32m     12\u001b[0m     ax[i]\u001b[38;5;241m.\u001b[39mplot(pow_list[i][inds], qi_list[i][inds], \u001b[38;5;124m'\u001b[39m\u001b[38;5;124mo\u001b[39m\u001b[38;5;124m'\u001b[39m, markersize\u001b[38;5;241m=\u001b[39m\u001b[38;5;241m4\u001b[39m)\n",
      "\u001b[1;31mNameError\u001b[0m: name 'resonators' is not defined"
     ]
    },
    {
     "data": {
      "image/png": "[encoded data removed]",
      "text/plain": [
       "<Figure size 1200x600 with 6 Axes>"
      ]
     },
     "metadata": {},
     "output_type": "display_data"
    },
    {
     "data": {
      "image/png": "[encoded data removed]",
      "text/plain": [
       "<Figure size 1200x600 with 6 Axes>"
      ]
     },
     "metadata": {},
     "output_type": "display_data"
    },
    {
     "data": {
      "image/png": "[encoded data removed]",
      "text/plain": [
       "<Figure size 1200x600 with 6 Axes>"
      ]
     },
     "metadata": {},
     "output_type": "display_data"
    }
   ],
   "source": [
    "fig, ax = plt.subplots(2,3, figsize=(12,6), sharex=True)\n",
    "ax = ax.flatten()\n",
    "\n",
    "fig2, ax2 = plt.subplots(2,3, figsize=(12,6), sharex=True)\n",
    "ax2 = ax2.flatten()\n",
    "\n",
    "fig3, ax3 = plt.subplots(2,3, figsize=(12,6), sharex=True)\n",
    "ax3 = ax3.flatten()\n",
    "\n",
    "for i in range(len(resonators)):\n",
    "    inds=pow_list[i]>-70\n",
    "    ax[i].plot(pow_list[i][inds], qi_list[i][inds], 'o', markersize=4)\n",
    "    ax[i].plot(pow_list[i][inds], qi_phi_list[i][inds], 'o', markersize=4)\n",
    "    ax2[i].plot(pow_list[i][inds], phs_list[i][inds], 'o', markersize=4)\n",
    "    ax[i].set_title('Resonator {:d}'.format(resonators[i]))\n",
    "    #ax[i].set_xlabel('Power (dBm)')\n",
    "    ax[i].set_ylabel('$Q_i$')\n",
    "    ax3[i].plot(pow_list[i][inds], qc_list[i][inds], 'o', markersize=4)\n",
    "    ax3[i].plot(pow_list[i][inds], np.real(qc_list[i][inds]*np.exp(-1j*phs_list[i][inds])), 'o', markersize=4)\n",
    "\n",
    "\n",
    "fig.tight_layout()\n",
    "fig2.tight_layout()\n",
    "fig3.tight_layout()"
   ]
  },
  {
   "cell_type": "markdown",
   "metadata": {},
   "source": [
    "### Fit TLS "
   ]
  },
  {
   "cell_type": "code",
   "execution_count": 34,
   "metadata": {},
   "outputs": [],
   "source": [
    "i=4\n",
    "atten = -55\n",
    "\n",
    "# def Qtls(n, T, w, Qtls0, b1, b2, D): \n",
    "#     return Qtls0 * np.sqrt(1 + n**b2 / (D*T**b1) * tp(w, T) / tp(w, T))\n",
    "\n",
    "def pow_res(p): return 10**((p+atten)/10)*1e-3\n",
    "def n(p,f, q,qc): return pow_res(p)*q**2/qc/(cs.h*f**2*np.pi)\n",
    "def tp(f, T): return np.tanh(cs.h*f/(cs.k*T))\n",
    "# T: temperature, nc: critical phonon number, f: frequency, Qtls0: TLS limit, beta: power law, n: photon number\n",
    "def Qtls(n, T, f,  Qtls0, nc, beta): \n",
    "    return Qtls0/tp(f, T)*np.sqrt(1+(n/nc)**beta*tp(f, T))\n",
    "\n",
    "import scipy.special as special \n",
    "def Qqp(T, f, Qqp0, Tc): return Qqp0*np.exp(1.764*Tc/T)/np.sinh(cs.h * f/2/cs.k/T)/special.kn(0,cs.h*f/2/cs.k/T)\n",
    "#def n(p, f, q): return pow_res(p)*q/(cs.h*f**2*2*np.pi)\n",
    "\n",
    "def Qtot(n, T, f, Qqp0, Qtls0, Qoth, Tc, beta, nc): \n",
    "    return 1/(1/Qqp(T, f, Qqp0, Tc) + 1/Qtls(n, T, f, Qtls0, beta, nc)+1/Qoth)\n",
    "\n",
    "def Qtotn(n, T, f, Qtls0, Qoth, nc, beta): \n",
    "    return 1/(1/Qtls(n, T, f, Qtls0, nc,beta)+1/Qoth)\n",
    "Tc = 9.288\n",
    "\n",
    "#def nn2(p, qi, qc, f): pow_res(p)* qc* qi**2 / (np.pi * cs.h * f**2 * (qi + qc)**2)\n",
    "# in Watts\n",
    "\n",
    "# def Qtls(n, T, w, Qtls0, b1, b2, D): \n",
    "#     return Qtls0 * np.sqrt(1 + n**b2 / (D*T**b1) * tp(w, T) / tp(w, T))\n",
    "\n",
    "#pow_res(pow_list[i])[0]\n",
    "\n",
    "#print(pow_res(-70))\n",
    "#pow_res(-70)*120e3/(cs.h*3.5e9**2*2*np.pi)\n",
    "#pow_res(pow_list[i][0])*120e3/(cs.h*freq_list[i][0]**2*2*np.pi)\n",
    "\n",
    "\n",
    "#nbar = n(pow_res(-10), freq_list[i][0], 120e3)\n",
    "#print(nbar)\n",
    "\n"
   ]
  },
  {
   "cell_type": "code",
   "execution_count": 35,
   "metadata": {},
   "outputs": [
    {
     "ename": "NameError",
     "evalue": "name 'res_params0' is not defined",
     "output_type": "error",
     "traceback": [
      "\u001b[1;31m---------------------------------------------------------------------------\u001b[0m",
      "\u001b[1;31mNameError\u001b[0m                                 Traceback (most recent call last)",
      "Cell \u001b[1;32mIn[35], line 8\u001b[0m\n\u001b[0;32m      6\u001b[0m j\u001b[38;5;241m=\u001b[39m\u001b[38;5;241m0\u001b[39m\n\u001b[0;32m      7\u001b[0m \u001b[38;5;66;03m# photon numbers \u001b[39;00m\n\u001b[1;32m----> 8\u001b[0m nn \u001b[38;5;241m=\u001b[39m n(res_params0[i][\u001b[38;5;124m'\u001b[39m\u001b[38;5;124mpow\u001b[39m\u001b[38;5;124m'\u001b[39m][j,:], res_params0[i][\u001b[38;5;124m'\u001b[39m\u001b[38;5;124mfreqs\u001b[39m\u001b[38;5;124m'\u001b[39m][j,:], res_params0[i][\u001b[38;5;124m'\u001b[39m\u001b[38;5;124mq\u001b[39m\u001b[38;5;124m'\u001b[39m][j,:], res_params0[i][\u001b[38;5;124m'\u001b[39m\u001b[38;5;124mqc\u001b[39m\u001b[38;5;124m'\u001b[39m][j,:])\n\u001b[0;32m      9\u001b[0m freq \u001b[38;5;241m=\u001b[39m res_params0[i][\u001b[38;5;124m'\u001b[39m\u001b[38;5;124mfreqs\u001b[39m\u001b[38;5;124m'\u001b[39m][j,\u001b[38;5;241m0\u001b[39m]\n\u001b[0;32m     10\u001b[0m \u001b[38;5;66;03m#temp = temps[j]/1000\u001b[39;00m\n",
      "\u001b[1;31mNameError\u001b[0m: name 'res_params0' is not defined"
     ]
    }
   ],
   "source": [
    "#for j in range(res_params[i]['pow'].shape[1]):\n",
    "#def n(p,f, q,qc): return pow_res(p)*q**2/qc/(cs.h*f**2*np.pi)\n",
    "#def Qtls(n, T, nc, f, Qtls0, beta): \n",
    "sns.set_palette(\"deep\")\n",
    "i=3\n",
    "j=0\n",
    "# photon numbers \n",
    "nn = n(res_params0[i]['pow'][j,:], res_params0[i]['freqs'][j,:], res_params0[i]['q'][j,:], res_params0[i]['qc'][j,:])\n",
    "freq = res_params0[i]['freqs'][j,0]\n",
    "#temp = temps[j]/1000\n",
    "temp = 0.08\n",
    "q_fit_tls = lambda n, Qtls0, nc, beta: Qtls(n, temp, freq, Qtls0, nc, beta)\n",
    "q_fitn = lambda n, Qtls0, Qoth, nc, beta: Qtotn(n, temp, freq, Qtls0, Qoth, nc, beta)\n",
    "\n",
    "p=[2e5, 6e5, .1, 0.3]\n",
    "p2=[2.3e5,5e3, 0.2]\n",
    "\n",
    "inds = res_params0[i]['pow'][j,:] < -14\n",
    "qt = q_fitn(nn, *p)\n",
    "qt2 = q_fit_tls(nn, *p2)\n",
    "\n",
    "plt.figure(figsize=(5,3))\n",
    "plt.semilogx(nn, res_params0[i]['qi'][j,:], '.-')\n",
    "\n",
    "plt.semilogx(nn[inds], res_params0[i]['qi'][j,inds], '.-')\n",
    "#plt.semilogx(nn[inds], qt[inds], '.-', label='Full Q')\n",
    "#plt.semilogx(nn[inds], qt2[inds], '.-', label='Just TLS')\n",
    "\n",
    "nn_list = np.logspace(-5,20)\n",
    "plt.legend()\n",
    "\n",
    "#plt.semilogx(nn_list, q_fitn(nn_list, *p), '.-', label='Just TLS')\n",
    "params, err = curve_fit(q_fitn, nn[inds], res_params0[i]['qi'][j,inds], p0=p)\n",
    "plt.semilogx(nn[inds], q_fitn(nn[inds], *params), '.-')\n",
    "\n",
    "print(params)"
   ]
  },
  {
   "cell_type": "code",
   "execution_count": 36,
   "metadata": {},
   "outputs": [
    {
     "ename": "NameError",
     "evalue": "name 'nn' is not defined",
     "output_type": "error",
     "traceback": [
      "\u001b[1;31m---------------------------------------------------------------------------\u001b[0m",
      "\u001b[1;31mNameError\u001b[0m                                 Traceback (most recent call last)",
      "Cell \u001b[1;32mIn[36], line 1\u001b[0m\n\u001b[1;32m----> 1\u001b[0m nn\n",
      "\u001b[1;31mNameError\u001b[0m: name 'nn' is not defined"
     ]
    }
   ],
   "source": [
    "nn"
   ]
  },
  {
   "cell_type": "code",
   "execution_count": 37,
   "metadata": {},
   "outputs": [
    {
     "ename": "NameError",
     "evalue": "name 'freq' is not defined",
     "output_type": "error",
     "traceback": [
      "\u001b[1;31m---------------------------------------------------------------------------\u001b[0m",
      "\u001b[1;31mNameError\u001b[0m                                 Traceback (most recent call last)",
      "Cell \u001b[1;32mIn[37], line 3\u001b[0m\n\u001b[0;32m      1\u001b[0m pow_arr \u001b[38;5;241m=\u001b[39mnp\u001b[38;5;241m.\u001b[39mlogspace(\u001b[38;5;241m0\u001b[39m,\u001b[38;5;241m7\u001b[39m)\n\u001b[1;32m----> 3\u001b[0m nn \u001b[38;5;241m=\u001b[39m n(pow_arr, freq, res_params[i][\u001b[38;5;124m'\u001b[39m\u001b[38;5;124mq\u001b[39m\u001b[38;5;124m'\u001b[39m][j,:], res_params[i][\u001b[38;5;124m'\u001b[39m\u001b[38;5;124mqc\u001b[39m\u001b[38;5;124m'\u001b[39m][j,:])\n",
      "\u001b[1;31mNameError\u001b[0m: name 'freq' is not defined"
     ]
    }
   ],
   "source": [
    "pow_arr =np.logspace(0,7)\n",
    "\n",
    "nn = n(pow_arr, freq, res_params[i]['q'][j,:], res_params[i]['qc'][j,:])\n",
    "#plt.semilogx(n(pow_arr, freq, ), q_fitn(n(pow_arr), 1e4, 2e5, 0.2), '.-')\n",
    "#params, err = curve_fit(qtls_fit, nn[inds], res_params[i]['qi'][j,inds], p0=p)\n"
   ]
  },
  {
   "cell_type": "code",
   "execution_count": 38,
   "metadata": {},
   "outputs": [
    {
     "ename": "NameError",
     "evalue": "name 'qtls_fit' is not defined",
     "output_type": "error",
     "traceback": [
      "\u001b[1;31m---------------------------------------------------------------------------\u001b[0m",
      "\u001b[1;31mNameError\u001b[0m                                 Traceback (most recent call last)",
      "Cell \u001b[1;32mIn[38], line 4\u001b[0m\n\u001b[0;32m      1\u001b[0m \u001b[38;5;66;03m#qtls_fit(nn[pow_arr], 1e4, 2e5, 0.2)\u001b[39;00m\n\u001b[1;32m----> 4\u001b[0m qt \u001b[38;5;241m=\u001b[39m qtls_fit(nn, \u001b[38;5;241m1e4\u001b[39m, \u001b[38;5;241m2e5\u001b[39m, \u001b[38;5;241m0.2\u001b[39m)\n\u001b[0;32m      5\u001b[0m \u001b[38;5;28mprint\u001b[39m(qt)\n",
      "\u001b[1;31mNameError\u001b[0m: name 'qtls_fit' is not defined"
     ]
    }
   ],
   "source": [
    "#qtls_fit(nn[pow_arr], 1e4, 2e5, 0.2)\n",
    "\n",
    "\n",
    "qt = qtls_fit(nn, 1e4, 2e5, 0.2)\n",
    "print(qt)"
   ]
  },
  {
   "cell_type": "markdown",
   "metadata": {},
   "source": [
    "### Error"
   ]
  },
  {
   "cell_type": "code",
   "execution_count": 39,
   "metadata": {},
   "outputs": [
    {
     "ename": "NameError",
     "evalue": "name 'err' is not defined",
     "output_type": "error",
     "traceback": [
      "\u001b[1;31m---------------------------------------------------------------------------\u001b[0m",
      "\u001b[1;31mNameError\u001b[0m                                 Traceback (most recent call last)",
      "Cell \u001b[1;32mIn[39], line 2\u001b[0m\n\u001b[0;32m      1\u001b[0m \u001b[38;5;66;03m#[Q_conf, Qi_conf, Qc_conf, Qc_Re_conf, phi_conf, w1_conf]\u001b[39;00m\n\u001b[1;32m----> 2\u001b[0m err\n\u001b[0;32m      4\u001b[0m phi_conf\u001b[38;5;241m=\u001b[39m np\u001b[38;5;241m.\u001b[39marray([err[i][\u001b[38;5;241m4\u001b[39m] \u001b[38;5;28;01mfor\u001b[39;00m i \u001b[38;5;129;01min\u001b[39;00m \u001b[38;5;28mrange\u001b[39m(\u001b[38;5;28mlen\u001b[39m(err))])\n\u001b[0;32m      5\u001b[0m q_conf \u001b[38;5;241m=\u001b[39m np\u001b[38;5;241m.\u001b[39marray([err[i][\u001b[38;5;241m0\u001b[39m] \u001b[38;5;28;01mfor\u001b[39;00m i \u001b[38;5;129;01min\u001b[39;00m \u001b[38;5;28mrange\u001b[39m(\u001b[38;5;28mlen\u001b[39m(err))])\n",
      "\u001b[1;31mNameError\u001b[0m: name 'err' is not defined"
     ]
    }
   ],
   "source": [
    "#[Q_conf, Qi_conf, Qc_conf, Qc_Re_conf, phi_conf, w1_conf]\n",
    "err\n",
    "\n",
    "phi_conf= np.array([err[i][4] for i in range(len(err))])\n",
    "q_conf = np.array([err[i][0] for i in range(len(err))])\n",
    "qi_conf = np.array([err[i][1] for i in range(len(err))])\n",
    "qc_conf = np.array([err[i][2] for i in range(len(err))])\n",
    "qc_re_conf = np.array([err[i][3] for i in range(len(err))])\n",
    "w1_conf = np.array([err[i][5] for i in range(len(err))])\n"
   ]
  },
  {
   "cell_type": "markdown",
   "metadata": {},
   "source": [
    "### Single Resonator"
   ]
  },
  {
   "cell_type": "code",
   "execution_count": 55,
   "metadata": {},
   "outputs": [
    {
     "name": "stdout",
     "output_type": "stream",
     "text": [
      "126\n",
      "Counter({5825970: 18, 6142840: 18, 6429810: 18, 6729210: 18, 6734490: 18, 7083855: 18})\n",
      "res_5825970_25dbm\n"
     ]
    },
    {
     "ename": "TypeError",
     "evalue": "fit_resonator() got an unexpected keyword argument 'plot'",
     "output_type": "error",
     "traceback": [
      "\u001b[1;31m---------------------------------------------------------------------------\u001b[0m",
      "\u001b[1;31mTypeError\u001b[0m                                 Traceback (most recent call last)",
      "Cell \u001b[1;32mIn[55], line 18\u001b[0m\n\u001b[0;32m     16\u001b[0m \u001b[38;5;28mprint\u001b[39m(file_list[i])\n\u001b[0;32m     17\u001b[0m \u001b[38;5;66;03m#output = fit_resonator(data, file_list[i], output_path, 'DCM')    \u001b[39;00m\n\u001b[1;32m---> 18\u001b[0m fit_resonator(data, file_list[i], plot\u001b[38;5;241m=\u001b[39m\u001b[38;5;124m'\u001b[39m\u001b[38;5;124mpng\u001b[39m\u001b[38;5;124m'\u001b[39m)    \n\u001b[0;32m     20\u001b[0m plt\u001b[38;5;241m.\u001b[39mfigure()\n\u001b[0;32m     21\u001b[0m plt\u001b[38;5;241m.\u001b[39mplot(data[\u001b[38;5;124m'\u001b[39m\u001b[38;5;124mfreqs\u001b[39m\u001b[38;5;124m'\u001b[39m], data[\u001b[38;5;124m'\u001b[39m\u001b[38;5;124mphases\u001b[39m\u001b[38;5;124m'\u001b[39m], \u001b[38;5;124m'\u001b[39m\u001b[38;5;124m.\u001b[39m\u001b[38;5;124m'\u001b[39m)\n",
      "\u001b[1;31mTypeError\u001b[0m: fit_resonator() got an unexpected keyword argument 'plot'"
     ]
    }
   ],
   "source": [
    "i=3\n",
    "pattern0 = r'res_(\\d+)_\\d{2}dbm'\n",
    "resonators, file_list = get_resonators('power_sweep3', pattern0)\n",
    "output_path = './procdata_' + '/'\n",
    "\n",
    "pattern = 'res_{:d}_'.format(resonators[0]) + '\\d{2}dbm'\n",
    "file_list = [file for file in file_list if re.search(pattern, file)]\n",
    "\n",
    "pth = pth_base + 'power_sweep3'\n",
    "data, attrs = hy.prev_data(pth, file_list[i])\n",
    "\n",
    "data['phases'] = np.unwrap(data['phases'][0])\n",
    "data['freqs']=data['fpts'][0]\n",
    "data['amps']=data['mags'][0]\n",
    "\n",
    "print(file_list[i])\n",
    "#output = fit_resonator(data, file_list[i], output_path, 'DCM')    \n",
    "fit_resonator(data, file_list[i], plot='png')    \n",
    "\n",
    "plt.figure()\n",
    "plt.plot(data['freqs'], data['phases'], '.')\n",
    "plt.plot(data['freqs'], data['amps'], '.')\n",
    "data['vna_power'][0]\n",
    "#cpzm  226k / 736 [DOESN'T FIT WELL]\n",
    "# phi 206 / 539\n",
    "# DCM 206 / 523\n",
    "# INv 202 / 520 \n",
    "\n",
    "output"
   ]
  },
  {
   "cell_type": "code",
   "execution_count": 48,
   "metadata": {},
   "outputs": [
    {
     "data": {
      "text/plain": [
       "['power_sweep2']"
      ]
     },
     "execution_count": 48,
     "metadata": {},
     "output_type": "execute_result"
    }
   ],
   "source": [
    "directories"
   ]
  },
  {
   "cell_type": "markdown",
   "metadata": {},
   "source": [
    "## Plot resonator data"
   ]
  },
  {
   "cell_type": "code",
   "execution_count": 51,
   "metadata": {},
   "outputs": [
    {
     "ename": "SyntaxError",
     "evalue": "invalid syntax (1189758193.py, line 1)",
     "output_type": "error",
     "traceback": [
      "\u001b[1;36m  Cell \u001b[1;32mIn[51], line 1\u001b[1;36m\u001b[0m\n\u001b[1;33m    from ......JJ_fab.Coherence Sample.Resonators Measurement.240719.VNA_funcs.py import read_file\u001b[0m\n\u001b[1;37m                                ^\u001b[0m\n\u001b[1;31mSyntaxError\u001b[0m\u001b[1;31m:\u001b[0m invalid syntax\n"
     ]
    }
   ],
   "source": [
    "data = read_file(pth, file_list[20])\n",
    "data['phases'] = np.unwrap(data['phases'])#*180/np.pi\n",
    "fig, ax = plt.subplots(1,2, figsize=(10,4))\n",
    "ax[0].plot(data['freqs'], data['amps'],'.')\n",
    "ax[1].plot(data['freqs'], data['phases'],'.')"
   ]
  },
  {
   "cell_type": "code",
   "execution_count": 50,
   "metadata": {},
   "outputs": [
    {
     "ename": "NameError",
     "evalue": "name 'qi_list' is not defined",
     "output_type": "error",
     "traceback": [
      "\u001b[1;31m---------------------------------------------------------------------------\u001b[0m",
      "\u001b[1;31mNameError\u001b[0m                                 Traceback (most recent call last)",
      "Cell \u001b[1;32mIn[50], line 2\u001b[0m\n\u001b[0;32m      1\u001b[0m \u001b[38;5;28;01mfrom\u001b[39;00m \u001b[38;5;21;01mscipy\u001b[39;00m\u001b[38;5;21;01m.\u001b[39;00m\u001b[38;5;21;01moptimize\u001b[39;00m \u001b[38;5;28;01mimport\u001b[39;00m curve_fit\n\u001b[1;32m----> 2\u001b[0m q \u001b[38;5;241m=\u001b[39m \u001b[38;5;241m1\u001b[39m\u001b[38;5;241m/\u001b[39m(\u001b[38;5;241m1\u001b[39m\u001b[38;5;241m/\u001b[39mqi_list[i]\u001b[38;5;241m+\u001b[39m\u001b[38;5;241m1\u001b[39m\u001b[38;5;241m/\u001b[39mqc_list[i])\n\u001b[0;32m      3\u001b[0m i\u001b[38;5;241m=\u001b[39m\u001b[38;5;241m0\u001b[39m\n\u001b[0;32m      4\u001b[0m \u001b[38;5;66;03m#def Qtls(n, T, nc, f, Qtls0, beta): \u001b[39;00m\n",
      "\u001b[1;31mNameError\u001b[0m: name 'qi_list' is not defined"
     ]
    }
   ],
   "source": [
    "from scipy.optimize import curve_fit\n",
    "q = 1/(1/qi_list[i]+1/qc_list[i])\n",
    "i=0\n",
    "#def Qtls(n, T, nc, f, Qtls0, beta): \n",
    "plt.figure()\n",
    "inds = np.arange(2,18)\n",
    "pow=nn(pow_list[i][inds], q[inds], qc_list[i][inds], freq_list[i][inds])\n",
    "plt.semilogx(pow, qi_list[i][inds], 'o-', markersize=4)\n",
    "#p, cov = curve_fit(Qtls, pow, qi_list[i][inds], [2e5, ])\n",
    "p=[0.08, 1e4, 3e5, 0.3]\n",
    "f = freq_list[i][0]\n",
    "def Qtls(n, T, nc, Qtls0, beta): \n",
    "    return Qtls0/tp(2*np.pi*f, T)*np.sqrt(1+(n/nc)**beta*tp(2*np.pi*f, T))\n",
    "pow_res(pow_list[i])[0]\n",
    "p, cov = curve_fit(Qtls, pow, qi_list[i][inds], p)\n",
    "\n",
    "plt.semilogx(pow, Qtls(pow, *p), 'o-', markersize=4)\n",
    "print(p)"
   ]
  },
  {
   "cell_type": "code",
   "execution_count": 151,
   "metadata": {},
   "outputs": [],
   "source": [
    "qc_mean = np.array([np.mean(qc_list[i]) for i in range(len(qc_list))])\n",
    "freq_mean = np.array([np.mean(freq_list[i]) for i in range(len(freq_list))])\n",
    "qc_mean2 = np.array([np.mean(df_list[i]['Qc']) for i in range(len(df_list))])\n",
    "qi_0 = np.array([np.min(qi_list[i][pow_list[i]>-70]) for i in range(len(qc_list))])"
   ]
  },
  {
   "cell_type": "code",
   "execution_count": 121,
   "metadata": {},
   "outputs": [
    {
     "data": {
      "image/png": "[encoded data removed]",
      "text/plain": [
       "<Figure size 1000x800 with 1 Axes>"
      ]
     },
     "metadata": {},
     "output_type": "display_data"
    }
   ],
   "source": [
    "plt.figure\n",
    "plot_full = False\n",
    "if plot_full:\n",
    "    plt.plot(freq_mean, qc_mean, 'o', markersize=4, label='DCM')\n",
    "    plt.plot(freq_mean, qc_mean2, 'o', markersize=4, label='AO')\n",
    "else:\n",
    "    plt.plot(freq_mean, qc_mean2/qc_mean, 'o', markersize=4, label='AO')"
   ]
  }
 ],
 "metadata": {
  "kernelspec": {
   "display_name": "base",
   "language": "python",
   "name": "python3"
  },
  "language_info": {
   "codemirror_mode": {
    "name": "ipython",
    "version": 3
   },
   "file_extension": ".py",
   "mimetype": "text/x-python",
   "name": "python",
   "nbconvert_exporter": "python",
   "pygments_lexer": "ipython3",
   "version": "3.11.9"
  }
 },
 "nbformat": 4,
 "nbformat_minor": 2
}
