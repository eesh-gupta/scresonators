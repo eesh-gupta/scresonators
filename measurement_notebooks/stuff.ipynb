{
 "cells": [
  {
   "cell_type": "code",
   "execution_count": 24,
   "id": "18469d8e",
   "metadata": {},
   "outputs": [
    {
     "name": "stdout",
     "output_type": "stream",
     "text": [
      "0.4694960212201591\n"
     ]
    },
    {
     "data": {
      "text/plain": [
       "-0.9999999846630937"
      ]
     },
     "execution_count": 24,
     "metadata": {},
     "output_type": "execute_result"
    }
   ],
   "source": [
    "import numpy as np\n",
    "\n",
    "h=0.01\n",
    "eps=12 \n",
    "\n",
    "s = 5 \n",
    "k = 1.77 * s / (2*s + 1.77*s)\n",
    "print(k)\n",
    "np.tanh(1.785 * np.log(h/s)+1.75)\n",
    "#(1.785 * np.log(h/s)+1.75)%np.pi"
   ]
  },
  {
   "cell_type": "code",
   "execution_count": 25,
   "id": "886d8859",
   "metadata": {},
   "outputs": [
    {
     "data": {
      "text/plain": [
       "-68.09715997438946"
      ]
     },
     "execution_count": 25,
     "metadata": {},
     "output_type": "execute_result"
    }
   ],
   "source": [
    "k * s/h*(0.04 - 0.7*k + 0.01*(1-0.1*eps)*(0.25+k))"
   ]
  },
  {
   "cell_type": "code",
   "execution_count": 12,
   "id": "92c39005",
   "metadata": {},
   "outputs": [
    {
     "data": {
      "text/plain": [
       "6.5"
      ]
     },
     "execution_count": 12,
     "metadata": {},
     "output_type": "execute_result"
    }
   ],
   "source": [
    "0.5*(eps+1)"
   ]
  },
  {
   "cell_type": "code",
   "execution_count": 10,
   "id": "8a758b3d",
   "metadata": {},
   "outputs": [
    {
     "data": {
      "text/plain": [
       "0.7615941559557649"
      ]
     },
     "execution_count": 10,
     "metadata": {},
     "output_type": "execute_result"
    }
   ],
   "source": [
    "np.tanh(1)"
   ]
  },
  {
   "cell_type": "code",
   "execution_count": 7,
   "id": "22419b70",
   "metadata": {},
   "outputs": [
    {
     "data": {
      "text/plain": [
       "-3.912023005428146"
      ]
     },
     "execution_count": 7,
     "metadata": {},
     "output_type": "execute_result"
    }
   ],
   "source": [
    "np.log(h/s)"
   ]
  },
  {
   "cell_type": "code",
   "execution_count": null,
   "id": "da57af3d",
   "metadata": {},
   "outputs": [
    {
     "data": {
      "text/plain": [
       "-1.361943199487789"
      ]
     },
     "execution_count": 16,
     "metadata": {},
     "output_type": "execute_result"
    }
   ],
   "source": []
  }
 ],
 "metadata": {
  "kernelspec": {
   "display_name": "base",
   "language": "python",
   "name": "python3"
  },
  "language_info": {
   "codemirror_mode": {
    "name": "ipython",
    "version": 3
   },
   "file_extension": ".py",
   "mimetype": "text/x-python",
   "name": "python",
   "nbconvert_exporter": "python",
   "pygments_lexer": "ipython3",
   "version": "3.11.8"
  }
 },
 "nbformat": 4,
 "nbformat_minor": 5
}
