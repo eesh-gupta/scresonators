{
 "cells": [
  {
   "cell_type": "code",
   "execution_count": null,
   "metadata": {},
   "outputs": [],
   "source": [
    "import sys\n",
    "import pandas as pd\n",
    "import scresonators.measurement.handy as hy\n",
    "import os \n",
    "import scipy.special as sp\n",
    "import numpy as np \n",
    "\n",
    "eps_sil = 11.7 # silicon \n",
    "eps_sapp = 9.3 # sapphire \n",
    "rat_sil = 1.77 \n",
    "rat_sapp = 2.39\n",
    "\n",
    "# for participation ratio\n",
    "eps_c = 10\n",
    "delta = 0.003\n",
    "\n",
    "def kp(k): return np.sqrt(1-k**2)\n",
    "def Kp(k): return sp.ellipk(kp(k))\n",
    "def K(k): return sp.ellipk(k)\n",
    "\n",
    "def psm(a, b, eps):\n",
    "    return eps**2 / eps_c/(eps+1) / (2 * (1-a/b)*Kp(a/b)*K(a/b)) * delta/a * (np.log(4*(1-a/b)/(1+a/b)) - a/b * np.log(a/b) / (1+a/b) + 1 - np.log(delta/a))\n",
    "\n",
    "def psm2(pin, gap, eps):\n",
    "    return psm(pin/2, pin/2+gap, eps)\n",
    "\n",
    "pth_base ='/Users/sph/Library/CloudStorage/GoogleDrive-circuitqed@gmail.com/'\n",
    "cloud_folder = 'My Drive/Projects/Materials/'\n",
    "\n",
    "img_path = os.path.join(pth_base, cloud_folder, 'Outputs/Resonators/')\n",
    "yml_pth = os.path.join(pth_base, cloud_folder, 'Outputs/Resonators/Text')\n",
    "from notion_utils import get_notion_client, get_notion_db\n",
    "\n",
    "\n",
    "n2p = get_notion_client()\n",
    "lnk = get_notion_db()"
   ]
  },
  {
   "cell_type": "markdown",
   "metadata": {},
   "source": [
    "## Sample params"
   ]
  },
  {
   "cell_type": "code",
   "execution_count": 11,
   "metadata": {},
   "outputs": [
    {
     "data": {
      "text/plain": [
       "Index(['Sputterer ID', 'Gap (um)', 'Q_Hi', 'Target Freq. (GHz)', 'P_ms',\n",
       "       'File', 'Qother (1e6)', 'Measurement', 'Post clean', 'Freq (GHz)',\n",
       "       'Package', 'Qother err (1e6)', 'Qc err (1e6)', 'Samples',\n",
       "       'Thickness (nm)', 'QTLS0 (1e6)', 'Wafer', 'Surface Prep',\n",
       "       'Fridge Cool Down', 'Depo', 'QTLS0 err (1e6)', 'Qc (1e6)', 'Date',\n",
       "       'Metal', 'Substrate', 'Pattern', 'Pin (um)', 'Growth temp (C)',\n",
       "       'Separation (um)', 'Name', 'PageID', 'Row_Hash'],\n",
       "      dtype='object')"
      ]
     },
     "execution_count": 11,
     "metadata": {},
     "output_type": "execute_result"
    }
   ],
   "source": [
    "lnk.columns"
   ]
  },
  {
   "cell_type": "markdown",
   "metadata": {},
   "source": [
    "## Create a data frame with new data "
   ]
  },
  {
   "cell_type": "code",
   "execution_count": 8,
   "metadata": {},
   "outputs": [],
   "source": [
    "# Now, make a df that has the same columns as the notion DB\n",
    "cols=['freqs', 'pitch', 'qc', 'qc_err', 'qother', 'qtls0', 'qtls0_err', 'qother_err', 'target_freq']\n",
    "yml_info=hy.load(os.path.join(yml_pth,p))\n",
    "new_df = pd.DataFrame({col: yml_info[col] for col in cols})\n",
    "\n",
    "time_dict =  {'start': date_meas, 'end': None, 'time_zone': None}\n",
    "new_df['Date'] = new_df.apply(lambda row: time_dict, axis=1)\n",
    "new_df['Metal'] = metal\n",
    "new_df['Substrate'] = substrate\n",
    "new_df['Depo']=depo\n",
    "new_df['Package']=package\n",
    "new_df['Measurement']=meas\n",
    "new_df['Notes'] = notes\n",
    "new_df['PageID']=''\n",
    "new_df['Row_Hash']=''\n",
    "new_df['Fridge Cool Down']=''\n",
    "new_df['Name']=name\n",
    "new_df['Samples']=''\n",
    "new_df['Pattern']=Pattern\n",
    "\n",
    "new_df.rename(columns={'pitch': 'Gap (um)', 'qtls0': 'QTLS0 (1e6)', 'qother': 'Qother (1e6)', 'qother_err':'Qother err (1e6)', 'qc':'Qc (1e6)', 'qc_err':'Qc err (1e6)','qtls0_err':'QTLS0 err (1e6)', 'target_freq':'Target Freq. (GHz)', 'freqs':'Freq (GHz)' }, inplace=True)\n",
    "round_cols = ['QTLS0 (1e6)', 'Qother (1e6)', 'Qc (1e6)', 'Qc err (1e6)', 'QTLS0 err (1e6)', 'Qother err (1e6)']\n",
    "new_df[round_cols] = new_df[round_cols] / 1e6\n",
    "new_df['Freq (GHz)'] = new_df['Freq (GHz)'] / 1e9\n",
    "\n",
    "new_df[round_cols] = new_df[round_cols].round(4)\n",
    "f_cols = ['Freq (GHz)', 'Target Freq. (GHz)']\n",
    "new_df[f_cols] = new_df[f_cols].round(7)\n",
    "\n",
    "new_df['Pin (um)'] = new_df.apply(\n",
    "    lambda row: row['Gap (um)'] * rat_sapp if row['Substrate'] == 'Sapphire' else row['Gap (um)'] * rat_sil,\n",
    "    axis=1\n",
    ")\n",
    "\n",
    "new_df['Pin (um)'] = new_df.apply(\n",
    "    lambda row: row['Gap (um)'] if row['Gap (um)'] in [3, 30] else row['Pin (um)'],\n",
    "    axis=1\n",
    ")\n",
    "\n",
    "new_df['P_ms'] = new_df.apply(\n",
    "    lambda row: psm2(row['Pin (um)'], row['Gap (um)'], eps_sapp if row['Substrate'] == 'Sapphire' else eps_sil),\n",
    "    axis=1\n",
    ")"
   ]
  },
  {
   "cell_type": "markdown",
   "metadata": {},
   "source": [
    "## Load notion database as dataframe and add new data to it "
   ]
  },
  {
   "cell_type": "code",
   "execution_count": 9,
   "metadata": {},
   "outputs": [],
   "source": [
    "notion_df = n2p.from_notion_DB_to_dataframe(lnk)\n",
    "combined_df = pd.concat([notion_df, new_df], ignore_index=True)\n",
    "#print(combined_df)"
   ]
  },
  {
   "cell_type": "markdown",
   "metadata": {},
   "source": [
    "## Send updated df to notion"
   ]
  },
  {
   "cell_type": "code",
   "execution_count": 10,
   "metadata": {},
   "outputs": [],
   "source": [
    "n2p.update_notion_DB_from_dataframe(lnk, combined_df)"
   ]
  },
  {
   "cell_type": "code",
   "execution_count": null,
   "metadata": {},
   "outputs": [],
   "source": [
    "notion_df = n2p.from_notion_DB_to_dataframe(lnk)"
   ]
  },
  {
   "cell_type": "markdown",
   "metadata": {},
   "source": [
    "# Add P_ms data"
   ]
  },
  {
   "cell_type": "code",
   "execution_count": 3,
   "metadata": {},
   "outputs": [],
   "source": [
    "import scipy.special as sp\n",
    "import numpy as np \n",
    "\n",
    "eps_sil = 11.7 # silicon \n",
    "eps_sapp = 9.3 # sapphire \n",
    "rat_sil = 1.77 \n",
    "rat_sapp = 2.39\n",
    "\n",
    "eps_c = 10\n",
    "delta = 0.003\n",
    "\n",
    "def kp(k): return np.sqrt(1-k**2)\n",
    "def Kp(k): return sp.ellipk(kp(k))\n",
    "def K(k): return sp.ellipk(k)\n",
    "\n",
    "def psm(a, b, eps):\n",
    "    return eps**2 / eps_c/(eps+1) / (2 * (1-a/b)*Kp(a/b)*K(a/b)) * delta/a * (np.log(4*(1-a/b)/(1+a/b)) - a/b * np.log(a/b) / (1+a/b) + 1 - np.log(delta/a))\n",
    "\n",
    "def psm2(pin, gap, eps):\n",
    "    return psm(pin/2, pin/2+gap, eps)"
   ]
  },
  {
   "cell_type": "code",
   "execution_count": null,
   "metadata": {},
   "outputs": [],
   "source": [
    "# Fill in values for 'Pin (um)' in notion_df based on the substrate\n",
    "notion_df['Pin (um)'] = notion_df.apply(\n",
    "    lambda row: row['Gap (um)'] * rat_sapp if row['Substrate'] == 'Sapphire' else row['Gap (um)'] * rat_sil,\n",
    "    axis=1\n",
    ")\n",
    "\n",
    "notion_df['Pin (um)'] = notion_df.apply(\n",
    "    lambda row: row['Gap (um)'] if row['Gap (um)'] in [3, 30] else row['Pin (um)'],\n",
    "    axis=1\n",
    ")"
   ]
  },
  {
   "cell_type": "code",
   "execution_count": 9,
   "metadata": {},
   "outputs": [],
   "source": [
    "notion_df['P_ms'] = notion_df.apply(\n",
    "    lambda row: psm2(row['Pin (um)'], row['Gap (um)'], eps_sapp if row['Substrate'] == 'Sapphire' else eps_sil),\n",
    "    axis=1\n",
    ")"
   ]
  },
  {
   "cell_type": "code",
   "execution_count": 19,
   "metadata": {},
   "outputs": [],
   "source": [
    "notion_df['Pattern'] = notion_df['Name'].apply(\n",
    "    lambda x: 'Houck_Sapp' if x == 'Sil1_SQ' else ('QcAdj_Sil' if x == 'Sil7-R1' else 'Houck_Sil')\n",
    ")"
   ]
  },
  {
   "cell_type": "code",
   "execution_count": 20,
   "metadata": {},
   "outputs": [],
   "source": [
    "n2p.update_notion_DB_from_dataframe(lnk, notion_df)"
   ]
  },
  {
   "cell_type": "markdown",
   "metadata": {},
   "source": [
    "# Add new column based on yml files "
   ]
  },
  {
   "cell_type": "code",
   "execution_count": 2,
   "metadata": {},
   "outputs": [
    {
     "name": "stdout",
     "output_type": "stream",
     "text": [
      "Loading Notion database...\n",
      "Current dataframe shape: (119, 32)\n",
      "Looking for YAML files in: /Users/sph/Library/CloudStorage/GoogleDrive-circuitqed@gmail.com/My Drive/Projects/Materials/Outputs/Resonators/Text\n",
      "Processed 1/119 rows... (1 matches so far)\n",
      "Processed 21/119 rows... (21 matches so far)\n",
      "Processed 41/119 rows... (41 matches so far)\n",
      "Processed 61/119 rows... (61 matches so far)\n",
      "Processed 81/119 rows... (81 matches so far)\n",
      "Processed 101/119 rows... (101 matches so far)\n",
      "\n",
      "Added Q_Hi column with 119 successful matches out of 119 total rows\n",
      "Final dataframe shape: (119, 32)\n",
      "\n",
      "Sample Q_Hi values:\n",
      "                                       File  Gap (um)      Q_Hi\n",
      "0  250728-ResSilTa-Aggron-JPAsilta8_jpa.yml        35  0.242979\n",
      "1  250728-ResSilTa-Aggron-JPAsilta8_jpa.yml        30  1.433132\n",
      "2  250728-ResSilTa-Aggron-JPAsilta8_jpa.yml        16  1.320735\n",
      "3  250728-ResSilTa-Aggron-JPAsilta8_jpa.yml        10  1.120163\n",
      "4  250728-ResSilTa-Aggron-JPAsilta8_jpa.yml         6  0.695672\n",
      "(119, 32)\n",
      "0    0.242979\n",
      "1    1.433132\n",
      "2    1.320735\n",
      "3    1.120163\n",
      "4    0.695672\n",
      "Name: Q_Hi, dtype: float64\n"
     ]
    }
   ],
   "source": [
    "# Import the function\n",
    "import sys\n",
    "sys.path.append('..')\n",
    "from get_dataframe_with_q_hi import get_dataframe_with_q_hi\n",
    "\n",
    "# Get the dataframe with Q_Hi column\n",
    "df_with_q_hi = get_dataframe_with_q_hi()\n",
    "\n",
    "# Now you have the complete dataframe with Q_Hi values!\n",
    "print(df_with_q_hi.shape)  # (119, 32)\n",
    "print(df_with_q_hi['Q_Hi'].head())  # Shows Q_Hi values"
   ]
  },
  {
   "cell_type": "code",
   "execution_count": 3,
   "metadata": {},
   "outputs": [],
   "source": [
    "from notion_utils import send_notion_db\n",
    "\n",
    "send_notion_db(df_with_q_hi)\n"
   ]
  },
  {
   "cell_type": "markdown",
   "metadata": {},
   "source": [
    "### They need to have all the same rows and columns"
   ]
  },
  {
   "cell_type": "code",
   "execution_count": 76,
   "metadata": {},
   "outputs": [
    {
     "name": "stdout",
     "output_type": "stream",
     "text": [
      "Common columns: Index(['Gap (um)', 'Target Freq. (GHz)', 'Qother (1e6)', 'Measurement',\n",
      "       'Notes', 'Freq (GHz)', 'Package', 'Qother err (1e6)', 'Qc err (1e6)',\n",
      "       'Samples', 'QTLS0 (1e6)', 'Fridge Cool Down', 'Depo', 'QTLS0 err (1e6)',\n",
      "       'Qc (1e6)', 'Date', 'Metal', 'Substrate', 'Name', 'PageID', 'Row_Hash'],\n",
      "      dtype='object')\n",
      "Columns only in notion_df: Index([], dtype='object')\n",
      "Columns only in new_df: Index([], dtype='object')\n"
     ]
    }
   ],
   "source": [
    "#print(notion_df.columns)\n",
    "#print(new_df.columns)\n",
    "\n",
    "common_columns = notion_df.columns.intersection(new_df.columns)\n",
    "print(\"Common columns:\", common_columns)\n",
    "\n",
    "notion_only_columns = notion_df.columns.difference(new_df.columns)\n",
    "print(\"Columns only in notion_df:\", notion_only_columns)\n",
    "\n",
    "new_df_only_columns = new_df.columns.difference(notion_df.columns)\n",
    "print(\"Columns only in new_df:\", new_df_only_columns)"
   ]
  }
 ],
 "metadata": {
  "kernelspec": {
   "display_name": "base",
   "language": "python",
   "name": "python3"
  },
  "language_info": {
   "codemirror_mode": {
    "name": "ipython",
    "version": 3
   },
   "file_extension": ".py",
   "mimetype": "text/x-python",
   "name": "python",
   "nbconvert_exporter": "python",
   "pygments_lexer": "ipython3",
   "version": "3.11.8"
  }
 },
 "nbformat": 4,
 "nbformat_minor": 2
}
