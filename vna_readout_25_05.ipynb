{
 "cells": [
  {
   "cell_type": "markdown",
   "metadata": {},
   "source": [
    "# Initialize"
   ]
  },
  {
   "cell_type": "code",
   "execution_count": null,
   "metadata": {},
   "outputs": [],
   "source": [
    "import os\n",
    "from time import *\n",
    "\n",
    "import numpy as np\n",
    "import matplotlib.pyplot as plt\n",
    "import seaborn as sns\n",
    "import sys \n",
    "sys.path.append('..\\\\')\n",
    "from scresonators.fit_resonator.ana_resonator import ResonatorFitter\n",
    "from scresonators.fit_resonator.ana_resonator import ResonatorData\n",
    "import csv\n",
    "from datetime import datetime\n",
    "from scresonators.measurement import vna_measurement\n",
    "from scresonators.measurement import helpers\n",
    "from scresonators.measurement import vna_scan\n",
    "%load_ext autoreload\n",
    "%autoreload 2\n",
    "\n",
    "helpers.config_figs()\n",
    "\n",
    "import scresonators.measurement.vna_measurement\n",
    "from scresonators.measurement.ZNB import ZNB20\n",
    "\n",
    "VNA = ZNB20(address='10.108.30.65') # Stanford\n",
    "#VNA = ZNB20(address='192.168.137.84') # SLAC\n",
    "\n",
    "## Daily measurement settings\n",
    "warm_att = 0 #dB\n",
    "cold_att = 50\n",
    "\n",
    "spar = 's21'\n",
    "base_path = r'G:/My Drive/Projects/Materials/Data/250518-ResSilTa1_cooldown2p/'\n",
    "\n",
    "# spar = 's43'\n",
    "# base_path = r'G:/My Drive/Projects/Materials/Data/250518-ResSilTa3_cooldown2'\n",
    "\n",
    "if not os.path.exists(base_path):\n",
    "    os.makedirs(base_path)"
   ]
  },
  {
   "cell_type": "code",
   "execution_count": null,
   "metadata": {},
   "outputs": [],
   "source": [
    "VNA.reset()"
   ]
  },
  {
   "cell_type": "markdown",
   "metadata": {},
   "source": [
    "# Single power scans"
   ]
  },
  {
   "cell_type": "markdown",
   "metadata": {},
   "source": [
    "## Single scan"
   ]
  },
  {
   "cell_type": "code",
   "execution_count": null,
   "metadata": {},
   "outputs": [],
   "source": [
    "expt_path = base_path\n",
    "scan_def = {'freq_center':6.859e9, \n",
    "            'span':5e6,  \n",
    "            'bandwidth':10000, \n",
    "            'power':-10, \n",
    "            'npoints':10000, \n",
    "            'averages':4}\n",
    "#file_name = 'res_' + str(freq_center)[:7] + '_' + str(power)[1:] + 'dbm'\n",
    "file_name = 'search'\n",
    "data=vna_scan.do_vna_scan(VNA, file_name, expt_path, scan_def, spar)\n",
    "\n",
    "# 5.986213520, 6.264641450, 6.418856885, 6.570072000, 6.8067, 7.085925, 7.1553305, 7.3837534, 7.589974, 7.754795"
   ]
  },
  {
   "cell_type": "markdown",
   "metadata": {},
   "source": [
    "## Check resonances at one power"
   ]
  },
  {
   "cell_type": "code",
   "execution_count": null,
   "metadata": {},
   "outputs": [],
   "source": [
    "%matplotlib inline\n",
    "expt_path = base_path\n",
    "npoints = 150\n",
    "span=0.15e6\n",
    "power = -10\n",
    "\n",
    "freqs = np.array([6.0175e+09, 6.3510e+09, 6.7120e+09, 7.0296e+09, 7.1744e+09, 7.5467e+09])\n",
    "freqs =np.array([6.7278e+09, 6.9235e+09, 7.0342e+09])\n",
    "bandwidth=50\n",
    "avgs=1\n",
    "for freq_center in freqs:     \n",
    "    scan_def = {'freq_center':freq_center, 'span':span,  'bandwidth':bandwidth, 'power':power, 'npoints':npoints, 'averages':avgs}\n",
    "    file_name = 'res_' + str(freq_center)[:7] + '_' + str(power)[1:] + 'dbm'\n",
    "    vna_scan.do_vna_scan(VNA, file_name, expt_path, scan_def, spar)"
   ]
  },
  {
   "cell_type": "code",
   "execution_count": null,
   "metadata": {},
   "outputs": [],
   "source": [
    "from scipy.stats import linregress\n",
    "\n",
    "plt.figure()\n",
    "plt.plot(data['freqs'], np.unwrap(data['phases']))\n",
    "\n",
    "# Fit the data to a line\n",
    "slope, intercept, r_value, p_value, std_err = linregress(data['freqs'], np.unwrap(data['phases']))\n",
    "\n",
    "# Plot the fitted line\n",
    "plt.plot(data['freqs'], slope * data['freqs'] + intercept, label='Fitted Line', color='red')\n",
    "plt.legend()\n",
    "plt.show()\n",
    "#config.update_config(cfg_path, 'readout', qi, 'phase_const', slope)"
   ]
  },
  {
   "cell_type": "code",
   "execution_count": null,
   "metadata": {},
   "outputs": [],
   "source": [
    "slope"
   ]
  },
  {
   "cell_type": "markdown",
   "metadata": {},
   "source": [
    "# Run all these cells to do power sweep"
   ]
  },
  {
   "cell_type": "code",
   "execution_count": null,
   "metadata": {},
   "outputs": [],
   "source": [
    "expt_path = base_path + '/Res1_650mK'\n",
    "os.makedirs(expt_path, exist_ok=True)"
   ]
  },
  {
   "cell_type": "markdown",
   "metadata": {},
   "source": [
    "## Broad frequency scan looking for resonances "
   ]
  },
  {
   "cell_type": "code",
   "execution_count": null,
   "metadata": {},
   "outputs": [],
   "source": [
    "#expt_path = base_path\n",
    "span=50e6\n",
    "power = 0\n",
    "avgs = 3\n",
    "d=[]\n",
    "bandwidth=5000\n",
    "freq_min=6.0e9\n",
    "freq_max = 8.1e9 \n",
    "nscans = int(np.ceil((freq_max - freq_min)/span))\n",
    "for i in range(nscans):\n",
    "    freq_center = freq_min + i*span\n",
    "    scan_def = {'freq_center':freq_center, \n",
    "                'span':span,  \n",
    "                'bandwidth':bandwidth, \n",
    "                'power':power, \n",
    "                'npoints':10000, \n",
    "                'averages':avgs}\n",
    "    file_name = 'res_' + str(freq_center)[:7] + '_' + str(power)[1:] + 'dbm'\n",
    "    d.append(vna_scan.do_vna_scan(VNA, file_name, expt_path, scan_def, spar, plot=False))"
   ]
  },
  {
   "cell_type": "code",
   "execution_count": null,
   "metadata": {},
   "outputs": [],
   "source": [
    "dd = helpers.concat_scans(d)\n",
    "dd['amps'] = helpers.make_lin(dd['amps'])\n",
    "plt.figure()\n",
    "plt.plot(dd['freqs'],dd['amps'])"
   ]
  },
  {
   "cell_type": "code",
   "execution_count": null,
   "metadata": {},
   "outputs": [],
   "source": [
    "dd_db = helpers.concat_scans(d)\n",
    "plt.figure()\n",
    "plt.plot(dd_db['freqs'],dd_db['amps'])\n",
    "plt.xlabel('Frequency (GHz)')\n",
    "plt.ylabel('Amplitude (dB)')\n",
    "plt.savefig('amp_vs_freq_3.png')"
   ]
  },
  {
   "cell_type": "code",
   "execution_count": null,
   "metadata": {},
   "outputs": [],
   "source": [
    "data = helpers.find_peaks(dd, 0.003)\n",
    "print(len(data['coarse_peaks']))"
   ]
  },
  {
   "cell_type": "code",
   "execution_count": null,
   "metadata": {},
   "outputs": [],
   "source": [
    "data['coarse_props']"
   ]
  },
  {
   "cell_type": "code",
   "execution_count": null,
   "metadata": {},
   "outputs": [],
   "source": [
    "freqs = data['coarse_peaks']"
   ]
  },
  {
   "cell_type": "code",
   "execution_count": null,
   "metadata": {},
   "outputs": [],
   "source": [
    "freqs"
   ]
  },
  {
   "cell_type": "code",
   "execution_count": null,
   "metadata": {},
   "outputs": [],
   "source": []
  },
  {
   "cell_type": "markdown",
   "metadata": {},
   "source": [
    "## Medium width scan checking each resonance \n",
    "Saves the minimum value of transmission to res_freqs for narrower scan next. "
   ]
  },
  {
   "cell_type": "code",
   "execution_count": null,
   "metadata": {},
   "outputs": [],
   "source": [
    "#freqs = np.array([6.0175e+09, 6.3510e+09, 6.7120e+09, 6.8767e+09,7.0296e+09, 7.1744e+09, 7.5467e+09,8.0459e+09])\n",
    "#freqs =np.array([6.7278e+09, 6.9235e+09, 7.0342e+09,8.0683e+09])\n",
    "#freqs = np.array([6.7278e+09, 6.9234e+09, 7.0342e+09, 7.3375e+09,\n",
    "#freqs = data['coarse_peaks']              \n",
    "\n",
    "# 8.0683e+09]) # res 2\n",
    "#freqs = np.array([6.0155e+09, 6.3552e+09, 6.7128e+09,6.8589e9, 7.0288e+09, 7.1631e+09, 7.5432e+09,\n",
    "# 8.0420e+09])\n",
    "expt_path = base_path\n",
    "span=2e6\n",
    "res_freqs =[]\n",
    "power=-10\n",
    "temp=0.03\n",
    "\n",
    "freqs=np.array([6.0155e+09, 6.3554e+09, 6.7129e+09, 7.0289e+09, 7.1632e+09,\n",
    "       7.5434e+09, 8.0421e+09, 6.859e9])\n",
    "\n",
    " #np.array([6.0155e+09, 6.3552e+09, 6.7128e+09, 6.8589e+09, 7.0288e+09, 7.1631e+09, 7.5432e+09, 8.0420e+09])\n",
    "\n",
    "for freq_center in freqs:\n",
    "    scan_def = {'freq_center':freq_center, 'span':span,  'bandwidth':1000, 'power':-23, 'npoints':1000, 'averages':2}\n",
    "    file_name = 'res_' + str(freq_center)[:7] + '_' + str(power)[1:] + 'dbm_' + str(temp) + 'K'\n",
    "    data=vna_scan.do_vna_scan(VNA, file_name, expt_path, scan_def, spar)\n",
    "    res_freqs.append(data['freqs'][np.argmin(data['amps'])])"
   ]
  },
  {
   "cell_type": "code",
   "execution_count": null,
   "metadata": {},
   "outputs": [],
   "source": [
    "expt_path = base_path + '/Res1_200mK_2'\n",
    "os.makedirs(expt_path, exist_ok=True)"
   ]
  },
  {
   "cell_type": "code",
   "execution_count": null,
   "metadata": {},
   "outputs": [],
   "source": [
    "scan_def"
   ]
  },
  {
   "cell_type": "markdown",
   "metadata": {},
   "source": [
    "## Narrower scan before power sweep"
   ]
  },
  {
   "cell_type": "code",
   "execution_count": null,
   "metadata": {},
   "outputs": [],
   "source": [
    "freq_list =[]\n",
    "import copy \n",
    "scan_def['span']=1e5\n",
    "scan_def['power']=-10\n",
    "for res in res_freqs:\n",
    "    scan_def['freq_center'] = res\n",
    "    file_name = 'res_' + str(scan_def['freq_center'])[:7] + '_' + str(power)[1:] + 'dbm'\n",
    "    data=vna_scan.do_vna_scan(VNA, file_name, expt_path, scan_def, spar)\n",
    "    freq_list.append(data['freqs'][np.argmin(data['amps'])])\n",
    "res_freqs=copy.deepcopy(freq_list)"
   ]
  },
  {
   "cell_type": "code",
   "execution_count": null,
   "metadata": {},
   "outputs": [],
   "source": [
    "freq_list"
   ]
  },
  {
   "cell_type": "markdown",
   "metadata": {},
   "source": [
    "# Power sweep"
   ]
  },
  {
   "cell_type": "code",
   "execution_count": null,
   "metadata": {},
   "outputs": [],
   "source": [
    "# # 1\n",
    "# freq_list = [6017455952.976488,\n",
    "#  6350950600.30015,\n",
    "#  6711990820.410205,\n",
    "#  6876720085.042521,\n",
    "#  7029601875.937968,\n",
    "#  7174401175.587793,\n",
    "#  7546665057.528765,\n",
    "#  8045895572.786393]\n",
    "freq_list = [6017575675.136297,\n",
    " 6351091177.546969,\n",
    " 6712102126.580842,\n",
    " 6876862804.329457,\n",
    " 7029727928.775868,\n",
    " 7174591126.581392,\n",
    " 7546820346.301764,\n",
    " 8046069120.718976]\n",
    "\n",
    "# freq_list = [6876862804.329457,\n",
    "#  7029727928.775868,\n",
    "#  7546820346.301764,\n",
    "#  8046069120.718976]\n",
    "\n",
    "\n",
    "freq_list = [6712102126.580842,\n",
    " 7029727928.775868,]\n",
    " # 1\n",
    "#freq_list = [\n",
    "# # 6876720085.042521]\n",
    "slope = -4.1534052061318027e-07 # 1 \n",
    "#slope=0\n",
    "#freq_list = [8045895572.786393]\n",
    "# freq_list =[8068465902.491149]\n",
    "# 2\n",
    "#freq_list = [6727757253.626813, 6923469659.829915, 7034221985.992996, 8068307578.789394] # 2 \n",
    "#freq_list = [8068307578.789394]\n",
    "# slope = -4.6912118164934637e-07\n",
    "#freq_list= [7034221985.992996]\n",
    "\n",
    "# 3\n",
    "# freq_list = [6015457003.501751,\n",
    "#  6355251900.950475,\n",
    "#  6712772761.38069,\n",
    "#  #6859872161.080541,\n",
    "#  7028836743.371686,\n",
    "#  7163106428.2141075,\n",
    "#  7543248049.024512,\n",
    "#  8041999124.562282]\n",
    " # single, linear \n",
    " # 001\n",
    "\n",
    "# freq_list=[6015547597.597597,\n",
    "#  6355356506.506506,\n",
    "#  6712867517.517517,\n",
    "#  7028931581.581581,\n",
    "#  7163240390.39039,\n",
    "#  7543367617.617618,\n",
    "#  8042131781.781781,\n",
    "#  6859011361.3613615]\n",
    "slope = 0 \n",
    "\n",
    "\n",
    "for i in range(1):\n",
    "    custom_config = {\"freqs\":np.array(freq_list), \n",
    "                 \"att\":65,\n",
    "                 'type':'single',#'single , lin',\n",
    "                 'base_path':base_path, \n",
    "                 'bandwidth':100,\n",
    "                 \"db_slope\":5,\n",
    "                 'slope':slope,\n",
    "                 \"span_inc\":8,\n",
    "                 'nvals':35,\n",
    "                 \"pow_start\":11,\n",
    "                 \"avg_corr\":0.04,\n",
    "                 'spar':spar,\n",
    "                 'npoints':22, \n",
    "                 'pow_inc':-4, \n",
    "                 'comment':'res 3, going for it'}\n",
    "#custom_config = {\"freqs\":np.array(freq_list), \"att\":50,'type':'lin','base_path':base_path, 'nvals':21,\"pow_start\":0}\n",
    "    # Update default config with custom values\n",
    "    config = vna_measurement.get_default_power_sweep_config(custom_config)\n",
    "    results = vna_measurement.power_sweep_v2(config, VNA)\n"
   ]
  },
  {
   "cell_type": "markdown",
   "metadata": {},
   "source": [
    "## Fast version"
   ]
  },
  {
   "cell_type": "code",
   "execution_count": null,
   "metadata": {},
   "outputs": [],
   "source": [
    "# 1\n",
    "freq_list = [6017455952.976488,\n",
    " 6350950600.30015,\n",
    " 6711990820.410205,\n",
    " 6876720085.042521,\n",
    " 7029601875.937968,\n",
    " 7174401175.587793,\n",
    " 7546665057.528765,\n",
    " 8045895572.786393]\n",
    "freq_list = [6017575675.136297,\n",
    " 6351091177.546969,\n",
    " 6712102126.580842,\n",
    " 6876862804.329457,\n",
    " 7029727928.775868,\n",
    " 7174591126.581392,\n",
    " 7546820346.301764,\n",
    " 8046069120.718976]\n",
    "\n",
    " # 1\n",
    "#freq_list = [\n",
    "# 6876720085.042521]\n",
    "slope = -4.1534052061318027e-07 # 1 \n",
    "#slope=0\n",
    "#freq_list = [8045895572.786393]\n",
    "# 2\n",
    "#freq_list = [6727757253.626813, 6923469659.829915, 7034221985.992996, 8068307578.789394] # 2 \n",
    "#freq_list = [8068307578.789394]\n",
    "#slope = -4.6912118164934637e-07\n",
    "#freq_list= [7034221985.992996]\n",
    "\n",
    "# 3\n",
    "# freq_list = [6015457003.501751,\n",
    "#  6355251900.950475,\n",
    "#  6712772761.38069,\n",
    "#  #6859872161.080541,\n",
    "#  7028836743.371686,\n",
    "#  7163106428.2141075,\n",
    "#  7543248049.024512,\n",
    "#  8041999124.562282]\n",
    " # single, linear \n",
    " # 001\n",
    "\n",
    "for i in range(500):\n",
    "    custom_config = {\"freqs\":np.array(freq_list), \n",
    "                 \"att\":65,\n",
    "                 'type':'lin',#'single , lin',\n",
    "                 'base_path':base_path, \n",
    "                 'bandwidth':100,\n",
    "                 \"db_slope\":5,\n",
    "                 'slope':slope,\n",
    "                 \"span_inc\":8,\n",
    "                 'nvals':6,\n",
    "                 \"pow_start\":5,\n",
    "                 \"avg_corr\":0.1,\n",
    "                 'spar':spar,\n",
    "                 'npoints':75, \n",
    "                 'pow_inc':-4, \n",
    "                 'comment':'cooling down, starting at 900 mK'}\n",
    "#custom_config = {\"freqs\":np.array(freq_list), \"att\":50,'type':'lin','base_path':base_path, 'nvals':21,\"pow_start\":0}\n",
    "    # Update default config with custom values\n",
    "    config = vna_measurement.get_default_power_sweep_config(custom_config)\n",
    "    results = vna_measurement.power_sweep_v2(config, VNA)\n",
    "    write_hp_csv(results)\n"
   ]
  },
  {
   "cell_type": "code",
   "execution_count": null,
   "metadata": {},
   "outputs": [],
   "source": [
    "new_hp_csv(config['base_path'])"
   ]
  },
  {
   "cell_type": "code",
   "execution_count": null,
   "metadata": {},
   "outputs": [],
   "source": [
    "\n",
    "\n",
    "qhp_list = []\n",
    "for i in range(len(results.measurements)):\n",
    "    q_int = [results.measurements[i][j].q_internal for j in range(len(results.measurements[i]))]\n",
    "    qhp = np.max(q_int)\n",
    "    qhp_list.append(qhp)\n",
    "\n",
    "plt.figure(figsize=(8, 7))\n",
    "plt.semilogy(qhp_list, 'o')\n",
    "qhp_list\n",
    "# Create an empty CSV file with headers if it doesn't exist\n",
    "fname = os.path.join(config['base_path'], 'qhp.csv')\n",
    " # Adjust headers as needed\n",
    "with open(fname, mode='a', newline='') as file:\n",
    "    writer = csv.writer(file)\n",
    "    now = datetime.now().strftime('%Y-%m-%d %H:%M:%S')\n",
    "    writer.writerow([now] + qhp_list)\n"
   ]
  },
  {
   "cell_type": "markdown",
   "metadata": {},
   "source": [
    "## Power sweep just 1"
   ]
  },
  {
   "cell_type": "code",
   "execution_count": null,
   "metadata": {},
   "outputs": [],
   "source": [
    "# 1\n",
    "freq_list = [7029727828.725843,]\n",
    "\n",
    " # 1\n",
    "#freq_list = [\n",
    "# 6876720085.042521]\n",
    "slope = -4.1534052061318027e-07 # 1 \n",
    "#slope=0\n",
    "#freq_list = [8045895572.786393]\n",
    "# 2\n",
    "#freq_list = [6727757253.626813, 6923469659.829915, 7034221985.992996, 8068307578.789394] # 2 \n",
    "#freq_list = [8068307578.789394]\n",
    "#slope = -4.6912118164934637e-07\n",
    "#freq_list= [7034221985.992996]\n",
    "\n",
    "# 3\n",
    "# freq_list = [6015457003.501751,\n",
    "#  6355251900.950475,\n",
    "#  6712772761.38069,\n",
    "#  #6859872161.080541,\n",
    "#  7028836743.371686,\n",
    "#  7163106428.2141075,\n",
    "#  7543248049.024512,\n",
    "#  8041999124.562282]\n",
    " # single, linear \n",
    " # 001\n",
    "custom_config = {\"freqs\":np.array(freq_list), \n",
    "                 \"att\":65,\n",
    "                 'type':'lin',#'single , lin',\n",
    "                 'base_path':base_path, \n",
    "                 'bandwidth':100,\n",
    "                 \"db_slope\":7,\n",
    "                 'slope':slope,\n",
    "                 \"span_inc\":8,\n",
    "                 'nvals':10,\n",
    "                 \"pow_start\":10,\n",
    "                 \"avg_corr\":0.1,\n",
    "                 'spar':spar,\n",
    "                 'npoints':100, \n",
    "                 'pow_inc':-4, \n",
    "                 'comment':'365 mK, 10 data points, warming'}\n",
    "#custom_config = {\"freqs\":np.array(freq_list), \"att\":50,'type':'lin','base_path':base_path, 'nvals':21,\"pow_start\":0}\n",
    "    # Update default config with custom values\n",
    "config = vna_measurement.get_default_power_sweep_config(custom_config)\n",
    "print(config)\n",
    "results = vna_measurement.power_sweep_v2(config, VNA)"
   ]
  }
 ],
 "metadata": {
  "kernelspec": {
   "display_name": "base",
   "language": "python",
   "name": "python3"
  },
  "language_info": {
   "codemirror_mode": {
    "name": "ipython",
    "version": 3
   },
   "file_extension": ".py",
   "mimetype": "text/x-python",
   "name": "python",
   "nbconvert_exporter": "python",
   "pygments_lexer": "ipython3",
   "version": "3.12.7"
  }
 },
 "nbformat": 4,
 "nbformat_minor": 4
}
